{
 "cells": [
  {
   "cell_type": "code",
   "execution_count": 1,
   "id": "586ca8f0",
   "metadata": {},
   "outputs": [],
   "source": [
    "import pandas as pd\n",
    "import numpy as np\n",
    "import matplotlib.pyplot as plt\n",
    "from wordcloud import WordCloud, STOPWORDS, ImageColorGenerator\n",
    "from nltk import FreqDist\n",
    "from nltk.tokenize import RegexpTokenizer\n",
    "from sklearn.ensemble import RandomForestClassifier\n",
    "from sklearn.feature_extraction.text import CountVectorizer\n",
    "from sklearn.linear_model import LogisticRegression\n",
    "from sklearn.metrics import confusion_matrix, precision_score, precision_recall_curve, recall_score, f1_score\n",
    "from sklearn.naive_bayes import MultinomialNB\n",
    "from sklearn.svm import SVC\n",
    "from PIL import Image\n",
    "from sklearn.ensemble import RandomForestClassifier\n",
    "from bs4 import BeautifulSoup\n",
    "import spacy\n",
    "import unidecode\n",
    "from word2number import w2n\n",
    "import contractions\n",
    "import en_core_web_sm\n",
    "import datetime as dt\n",
    "import regex as re\n",
    "from sklearn.model_selection import train_test_split\n",
    "from nltk.stem import WordNetLemmatizer\n",
    "from fastai.text.all import *\n",
    "from sklearn.metrics import confusion_matrix, precision_score, precision_recall_curve, recall_score, f1_score\n",
    "from sklearn.naive_bayes import MultinomialNB\n",
    "from sklearn.linear_model import LogisticRegression\n",
    "from sklearn.feature_extraction.text import TfidfVectorizer\n",
    "from sklearn.ensemble import RandomForestClassifier\n",
    "from nltk.stem import WordNetLemmatizer\n",
    "from textblob import TextBlob\n",
    "from vaderSentiment.vaderSentiment import SentimentIntensityAnalyzer\n",
    "import eli5\n",
    "import matplotlib.pyplot as plt\n",
    "import numpy as np\n",
    "import sklearn\n",
    "from sklearn import datasets\n",
    "from sklearn.pipeline import FeatureUnion\n",
    "from sklearn.pipeline import Pipeline, make_pipeline\n",
    "from sklearn.base import BaseEstimator, TransformerMixin\n",
    "from sklearn.feature_extraction import DictVectorizer\n",
    "from sklearn.feature_extraction.text import CountVectorizer\n",
    "from sklearn.feature_extraction.text import TfidfVectorizer\n",
    "from sklearn.metrics import confusion_matrix, precision_score, precision_recall_curve, recall_score, f1_score\n",
    "from sklearn.linear_model import LogisticRegression\n",
    "from sklearn.tree import DecisionTreeClassifier\n",
    "%matplotlib inline"
   ]
  },
  {
   "cell_type": "code",
   "execution_count": 2,
   "id": "4079c0eb",
   "metadata": {},
   "outputs": [
    {
     "name": "stdout",
     "output_type": "stream",
     "text": [
      "\u001b[38;5;2m✔ Download and installation successful\u001b[0m\n",
      "You can now load the package via spacy.load('en_core_web_sm')\n"
     ]
    }
   ],
   "source": [
    "spacy.cli.download(\"en_core_web_sm\")"
   ]
  },
  {
   "cell_type": "code",
   "execution_count": 3,
   "id": "99b71fa3",
   "metadata": {},
   "outputs": [],
   "source": [
    "#Importing data\n",
    "names = [\"Review_ID\",\"Rating\",\"Year_Month\",\"Reviewer_Location\",\"Review_text\",\"Location\"]\n",
    "df_fl = pd.read_csv(\"/Users/parsat8/Desktop/Spring Quarter/NLP/Final Project/Dataset/drive-download-20210510T012249Z-001/Disney-HK.csv\",\n",
    "                   names = names, skiprows = 1)\n",
    "df_ana = pd.read_csv(\"/Users/parsat8/Desktop/Spring Quarter/NLP/Final Project/Dataset/drive-download-20210510T012249Z-001/Disney-Anaheim.csv\",\n",
    "                   names = names, skiprows = 1)\n",
    "df_pa = pd.read_csv(\"/Users/parsat8/Desktop/Spring Quarter/NLP/Final Project/Dataset/drive-download-20210510T012249Z-001/Disney-Paris.csv\",\n",
    "                   names = names, skiprows = 1)\n",
    "\n"
   ]
  },
  {
   "cell_type": "code",
   "execution_count": 4,
   "id": "4f06572c",
   "metadata": {},
   "outputs": [
    {
     "data": {
      "text/plain": [
       "(9620, 6)"
      ]
     },
     "execution_count": 4,
     "metadata": {},
     "output_type": "execute_result"
    }
   ],
   "source": [
    "# Checking the dimention of datasets\n",
    "#Florida\n",
    "df_fl.shape"
   ]
  },
  {
   "cell_type": "code",
   "execution_count": 5,
   "id": "91b49e88",
   "metadata": {},
   "outputs": [
    {
     "data": {
      "text/plain": [
       "(19406, 6)"
      ]
     },
     "execution_count": 5,
     "metadata": {},
     "output_type": "execute_result"
    }
   ],
   "source": [
    "#Anaheim\n",
    "df_ana.shape"
   ]
  },
  {
   "cell_type": "code",
   "execution_count": 6,
   "id": "11c9df5f",
   "metadata": {},
   "outputs": [
    {
     "data": {
      "text/plain": [
       "(13630, 6)"
      ]
     },
     "execution_count": 6,
     "metadata": {},
     "output_type": "execute_result"
    }
   ],
   "source": [
    "#Paris\n",
    "df_pa.shape"
   ]
  },
  {
   "cell_type": "code",
   "execution_count": 7,
   "id": "f0aee872",
   "metadata": {},
   "outputs": [],
   "source": [
    "# Stacking the data on top of each other and removing the duplicated rows\n",
    "df_main = pd.concat([df_fl,df_pa,df_ana],axis = 0).drop_duplicates().reset_index(drop=True)"
   ]
  },
  {
   "cell_type": "code",
   "execution_count": 8,
   "id": "8f40c231",
   "metadata": {},
   "outputs": [
    {
     "data": {
      "text/plain": [
       "(42644, 6)"
      ]
     },
     "execution_count": 8,
     "metadata": {},
     "output_type": "execute_result"
    }
   ],
   "source": [
    "df_main.shape"
   ]
  },
  {
   "cell_type": "code",
   "execution_count": 9,
   "id": "46010fc4",
   "metadata": {},
   "outputs": [
    {
     "data": {
      "text/html": [
       "<div>\n",
       "<style scoped>\n",
       "    .dataframe tbody tr th:only-of-type {\n",
       "        vertical-align: middle;\n",
       "    }\n",
       "\n",
       "    .dataframe tbody tr th {\n",
       "        vertical-align: top;\n",
       "    }\n",
       "\n",
       "    .dataframe thead th {\n",
       "        text-align: right;\n",
       "    }\n",
       "</style>\n",
       "<table border=\"1\" class=\"dataframe\">\n",
       "  <thead>\n",
       "    <tr style=\"text-align: right;\">\n",
       "      <th></th>\n",
       "      <th>Review_ID</th>\n",
       "      <th>Rating</th>\n",
       "      <th>Year_Month</th>\n",
       "      <th>Reviewer_Location</th>\n",
       "      <th>Review_text</th>\n",
       "      <th>Location</th>\n",
       "    </tr>\n",
       "  </thead>\n",
       "  <tbody>\n",
       "    <tr>\n",
       "      <th>0</th>\n",
       "      <td>670772142</td>\n",
       "      <td>4</td>\n",
       "      <td>2019-4</td>\n",
       "      <td>Australia</td>\n",
       "      <td>If you've ever been to Disneyland anywhere you'll find Disneyland Hong Kong very similar in the layout when you walk into main street! It has a very familiar feel. One of the rides  its a Small World  is absolutely fabulous and worth doing. The day we visited was fairly hot and relatively busy but the queues moved fairly well.</td>\n",
       "      <td>HongKong</td>\n",
       "    </tr>\n",
       "    <tr>\n",
       "      <th>1</th>\n",
       "      <td>670682799</td>\n",
       "      <td>4</td>\n",
       "      <td>2019-5</td>\n",
       "      <td>Philippines</td>\n",
       "      <td>Its been a while since d last time we visit HK Disneyland .. Yet, this time we only stay in Tomorrowland .. AKA Marvel land!Now they have Iron Man Experience n d Newly open Ant Man n d Wasp!!Ironman .. Great feature n so Exciting, especially d whole scenery of HK (HK central area to Kowloon)!Antman .. Changed by previous Buzz lightyear! More or less d same, but I'm expecting to have something most!!However, my boys like it!!Space Mountain .. Turns into Star Wars!! This 1 is Great!!!For cast members (staffs) .. Felt bit MINUS point from before!!! Just dun feel like its a Disney brand!! Seem...</td>\n",
       "      <td>HongKong</td>\n",
       "    </tr>\n",
       "    <tr>\n",
       "      <th>2</th>\n",
       "      <td>670623270</td>\n",
       "      <td>4</td>\n",
       "      <td>2019-4</td>\n",
       "      <td>United Arab Emirates</td>\n",
       "      <td>Thanks God it wasn   t too hot or too humid when I was visiting the park   otherwise it would be a big issue (there is not a lot of shade).I have arrived around 10:30am and left at 6pm. Unfortunately I didn   t last until evening parade, but 8.5 hours was too much for me.There is plenty to do and everyone will find something interesting for themselves to enjoy.It wasn   t extremely busy and the longest time I had to queue for certain attractions was 45 minutes (which is really not that bad).Although I had an amazing time, I felt a bit underwhelmed with choice of rides and attractions. The ...</td>\n",
       "      <td>HongKong</td>\n",
       "    </tr>\n",
       "    <tr>\n",
       "      <th>3</th>\n",
       "      <td>670607911</td>\n",
       "      <td>4</td>\n",
       "      <td>2019-4</td>\n",
       "      <td>Australia</td>\n",
       "      <td>HK Disneyland is a great compact park. Unfortunately there is quite a bit of maintenance work going on at present so a number of areas are closed off (including the famous castle) If you go midweek, it is not too crowded and certainly no where near as bus as LA Disneyland. We did notice on this visit that prices for food, drinks etc have really gone through the roof so be prepared to pay top dollar for snacks (and avoid the souvenir shops if you can) Regardless, kids will love it.</td>\n",
       "      <td>HongKong</td>\n",
       "    </tr>\n",
       "    <tr>\n",
       "      <th>4</th>\n",
       "      <td>670607296</td>\n",
       "      <td>4</td>\n",
       "      <td>2019-4</td>\n",
       "      <td>United Kingdom</td>\n",
       "      <td>the location is not in the city, took around 1 hour from Kowlon, my kids like disneyland so much, everything is fine.   but its really crowded and hot in Hong Kong</td>\n",
       "      <td>HongKong</td>\n",
       "    </tr>\n",
       "  </tbody>\n",
       "</table>\n",
       "</div>"
      ],
      "text/plain": [
       "   Review_ID  Rating Year_Month     Reviewer_Location  \\\n",
       "0  670772142       4     2019-4             Australia   \n",
       "1  670682799       4     2019-5           Philippines   \n",
       "2  670623270       4     2019-4  United Arab Emirates   \n",
       "3  670607911       4     2019-4             Australia   \n",
       "4  670607296       4     2019-4        United Kingdom   \n",
       "\n",
       "                                                                                                                                                                                                                                                                                                                                                                                                                                                                                                                                                                                                               Review_text  \\\n",
       "0                                                                                                                                                                                                                                                                                If you've ever been to Disneyland anywhere you'll find Disneyland Hong Kong very similar in the layout when you walk into main street! It has a very familiar feel. One of the rides  its a Small World  is absolutely fabulous and worth doing. The day we visited was fairly hot and relatively busy but the queues moved fairly well.    \n",
       "1  Its been a while since d last time we visit HK Disneyland .. Yet, this time we only stay in Tomorrowland .. AKA Marvel land!Now they have Iron Man Experience n d Newly open Ant Man n d Wasp!!Ironman .. Great feature n so Exciting, especially d whole scenery of HK (HK central area to Kowloon)!Antman .. Changed by previous Buzz lightyear! More or less d same, but I'm expecting to have something most!!However, my boys like it!!Space Mountain .. Turns into Star Wars!! This 1 is Great!!!For cast members (staffs) .. Felt bit MINUS point from before!!! Just dun feel like its a Disney brand!! Seem...   \n",
       "2  Thanks God it wasn   t too hot or too humid when I was visiting the park   otherwise it would be a big issue (there is not a lot of shade).I have arrived around 10:30am and left at 6pm. Unfortunately I didn   t last until evening parade, but 8.5 hours was too much for me.There is plenty to do and everyone will find something interesting for themselves to enjoy.It wasn   t extremely busy and the longest time I had to queue for certain attractions was 45 minutes (which is really not that bad).Although I had an amazing time, I felt a bit underwhelmed with choice of rides and attractions. The ...   \n",
       "3                                                                                                                    HK Disneyland is a great compact park. Unfortunately there is quite a bit of maintenance work going on at present so a number of areas are closed off (including the famous castle) If you go midweek, it is not too crowded and certainly no where near as bus as LA Disneyland. We did notice on this visit that prices for food, drinks etc have really gone through the roof so be prepared to pay top dollar for snacks (and avoid the souvenir shops if you can) Regardless, kids will love it.   \n",
       "4                                                                                                                                                                                                                                                                                                                                                                                                                                                      the location is not in the city, took around 1 hour from Kowlon, my kids like disneyland so much, everything is fine.   but its really crowded and hot in Hong Kong   \n",
       "\n",
       "   Location  \n",
       "0  HongKong  \n",
       "1  HongKong  \n",
       "2  HongKong  \n",
       "3  HongKong  \n",
       "4  HongKong  "
      ]
     },
     "execution_count": 9,
     "metadata": {},
     "output_type": "execute_result"
    }
   ],
   "source": [
    "df_main.head()"
   ]
  },
  {
   "cell_type": "code",
   "execution_count": 10,
   "id": "a2356484",
   "metadata": {},
   "outputs": [
    {
     "name": "stdout",
     "output_type": "stream",
     "text": [
      "<class 'pandas.core.frame.DataFrame'>\n",
      "RangeIndex: 42644 entries, 0 to 42643\n",
      "Data columns (total 6 columns):\n",
      " #   Column             Non-Null Count  Dtype \n",
      "---  ------             --------------  ----- \n",
      " 0   Review_ID          42644 non-null  int64 \n",
      " 1   Rating             42644 non-null  int64 \n",
      " 2   Year_Month         42644 non-null  object\n",
      " 3   Reviewer_Location  42644 non-null  object\n",
      " 4   Review_text        42644 non-null  object\n",
      " 5   Location           42644 non-null  object\n",
      "dtypes: int64(2), object(4)\n",
      "memory usage: 2.0+ MB\n"
     ]
    }
   ],
   "source": [
    "df_main.info()"
   ]
  },
  {
   "cell_type": "code",
   "execution_count": 11,
   "id": "d75483f3",
   "metadata": {},
   "outputs": [],
   "source": [
    "# labeling the data by utilizing the Rating column\n",
    "rating = df_main[\"Rating\"]\n",
    "def label_func(rating):\n",
    "    if rating >=4:\n",
    "        return \"Positive\"\n",
    "    elif rating == 3:\n",
    "            return \"Neutral\"\n",
    "    else:\n",
    "        return \"Negative\"\n",
    "        \n",
    "df_main[\"Sentiment\"] = df_main[\"Rating\"].apply(lambda x: label_func(x))   "
   ]
  },
  {
   "cell_type": "code",
   "execution_count": 12,
   "id": "ae96e2d5",
   "metadata": {},
   "outputs": [
    {
     "data": {
      "text/html": [
       "<div>\n",
       "<style scoped>\n",
       "    .dataframe tbody tr th:only-of-type {\n",
       "        vertical-align: middle;\n",
       "    }\n",
       "\n",
       "    .dataframe tbody tr th {\n",
       "        vertical-align: top;\n",
       "    }\n",
       "\n",
       "    .dataframe thead th {\n",
       "        text-align: right;\n",
       "    }\n",
       "</style>\n",
       "<table border=\"1\" class=\"dataframe\">\n",
       "  <thead>\n",
       "    <tr style=\"text-align: right;\">\n",
       "      <th></th>\n",
       "      <th>Review_ID</th>\n",
       "      <th>Rating</th>\n",
       "      <th>Year_Month</th>\n",
       "      <th>Reviewer_Location</th>\n",
       "      <th>Review_text</th>\n",
       "      <th>Location</th>\n",
       "      <th>Sentiment</th>\n",
       "    </tr>\n",
       "  </thead>\n",
       "  <tbody>\n",
       "    <tr>\n",
       "      <th>0</th>\n",
       "      <td>670772142</td>\n",
       "      <td>4</td>\n",
       "      <td>2019-4</td>\n",
       "      <td>Australia</td>\n",
       "      <td>If you've ever been to Disneyland anywhere you'll find Disneyland Hong Kong very similar in the layout when you walk into main street! It has a very familiar feel. One of the rides  its a Small World  is absolutely fabulous and worth doing. The day we visited was fairly hot and relatively busy but the queues moved fairly well.</td>\n",
       "      <td>HongKong</td>\n",
       "      <td>Positive</td>\n",
       "    </tr>\n",
       "    <tr>\n",
       "      <th>1</th>\n",
       "      <td>670682799</td>\n",
       "      <td>4</td>\n",
       "      <td>2019-5</td>\n",
       "      <td>Philippines</td>\n",
       "      <td>Its been a while since d last time we visit HK Disneyland .. Yet, this time we only stay in Tomorrowland .. AKA Marvel land!Now they have Iron Man Experience n d Newly open Ant Man n d Wasp!!Ironman .. Great feature n so Exciting, especially d whole scenery of HK (HK central area to Kowloon)!Antman .. Changed by previous Buzz lightyear! More or less d same, but I'm expecting to have something most!!However, my boys like it!!Space Mountain .. Turns into Star Wars!! This 1 is Great!!!For cast members (staffs) .. Felt bit MINUS point from before!!! Just dun feel like its a Disney brand!! Seem...</td>\n",
       "      <td>HongKong</td>\n",
       "      <td>Positive</td>\n",
       "    </tr>\n",
       "    <tr>\n",
       "      <th>2</th>\n",
       "      <td>670623270</td>\n",
       "      <td>4</td>\n",
       "      <td>2019-4</td>\n",
       "      <td>United Arab Emirates</td>\n",
       "      <td>Thanks God it wasn   t too hot or too humid when I was visiting the park   otherwise it would be a big issue (there is not a lot of shade).I have arrived around 10:30am and left at 6pm. Unfortunately I didn   t last until evening parade, but 8.5 hours was too much for me.There is plenty to do and everyone will find something interesting for themselves to enjoy.It wasn   t extremely busy and the longest time I had to queue for certain attractions was 45 minutes (which is really not that bad).Although I had an amazing time, I felt a bit underwhelmed with choice of rides and attractions. The ...</td>\n",
       "      <td>HongKong</td>\n",
       "      <td>Positive</td>\n",
       "    </tr>\n",
       "    <tr>\n",
       "      <th>3</th>\n",
       "      <td>670607911</td>\n",
       "      <td>4</td>\n",
       "      <td>2019-4</td>\n",
       "      <td>Australia</td>\n",
       "      <td>HK Disneyland is a great compact park. Unfortunately there is quite a bit of maintenance work going on at present so a number of areas are closed off (including the famous castle) If you go midweek, it is not too crowded and certainly no where near as bus as LA Disneyland. We did notice on this visit that prices for food, drinks etc have really gone through the roof so be prepared to pay top dollar for snacks (and avoid the souvenir shops if you can) Regardless, kids will love it.</td>\n",
       "      <td>HongKong</td>\n",
       "      <td>Positive</td>\n",
       "    </tr>\n",
       "    <tr>\n",
       "      <th>4</th>\n",
       "      <td>670607296</td>\n",
       "      <td>4</td>\n",
       "      <td>2019-4</td>\n",
       "      <td>United Kingdom</td>\n",
       "      <td>the location is not in the city, took around 1 hour from Kowlon, my kids like disneyland so much, everything is fine.   but its really crowded and hot in Hong Kong</td>\n",
       "      <td>HongKong</td>\n",
       "      <td>Positive</td>\n",
       "    </tr>\n",
       "  </tbody>\n",
       "</table>\n",
       "</div>"
      ],
      "text/plain": [
       "   Review_ID  Rating Year_Month     Reviewer_Location  \\\n",
       "0  670772142       4     2019-4             Australia   \n",
       "1  670682799       4     2019-5           Philippines   \n",
       "2  670623270       4     2019-4  United Arab Emirates   \n",
       "3  670607911       4     2019-4             Australia   \n",
       "4  670607296       4     2019-4        United Kingdom   \n",
       "\n",
       "                                                                                                                                                                                                                                                                                                                                                                                                                                                                                                                                                                                                               Review_text  \\\n",
       "0                                                                                                                                                                                                                                                                                If you've ever been to Disneyland anywhere you'll find Disneyland Hong Kong very similar in the layout when you walk into main street! It has a very familiar feel. One of the rides  its a Small World  is absolutely fabulous and worth doing. The day we visited was fairly hot and relatively busy but the queues moved fairly well.    \n",
       "1  Its been a while since d last time we visit HK Disneyland .. Yet, this time we only stay in Tomorrowland .. AKA Marvel land!Now they have Iron Man Experience n d Newly open Ant Man n d Wasp!!Ironman .. Great feature n so Exciting, especially d whole scenery of HK (HK central area to Kowloon)!Antman .. Changed by previous Buzz lightyear! More or less d same, but I'm expecting to have something most!!However, my boys like it!!Space Mountain .. Turns into Star Wars!! This 1 is Great!!!For cast members (staffs) .. Felt bit MINUS point from before!!! Just dun feel like its a Disney brand!! Seem...   \n",
       "2  Thanks God it wasn   t too hot or too humid when I was visiting the park   otherwise it would be a big issue (there is not a lot of shade).I have arrived around 10:30am and left at 6pm. Unfortunately I didn   t last until evening parade, but 8.5 hours was too much for me.There is plenty to do and everyone will find something interesting for themselves to enjoy.It wasn   t extremely busy and the longest time I had to queue for certain attractions was 45 minutes (which is really not that bad).Although I had an amazing time, I felt a bit underwhelmed with choice of rides and attractions. The ...   \n",
       "3                                                                                                                    HK Disneyland is a great compact park. Unfortunately there is quite a bit of maintenance work going on at present so a number of areas are closed off (including the famous castle) If you go midweek, it is not too crowded and certainly no where near as bus as LA Disneyland. We did notice on this visit that prices for food, drinks etc have really gone through the roof so be prepared to pay top dollar for snacks (and avoid the souvenir shops if you can) Regardless, kids will love it.   \n",
       "4                                                                                                                                                                                                                                                                                                                                                                                                                                                      the location is not in the city, took around 1 hour from Kowlon, my kids like disneyland so much, everything is fine.   but its really crowded and hot in Hong Kong   \n",
       "\n",
       "   Location Sentiment  \n",
       "0  HongKong  Positive  \n",
       "1  HongKong  Positive  \n",
       "2  HongKong  Positive  \n",
       "3  HongKong  Positive  \n",
       "4  HongKong  Positive  "
      ]
     },
     "execution_count": 12,
     "metadata": {},
     "output_type": "execute_result"
    }
   ],
   "source": [
    "df_main.head()"
   ]
  },
  {
   "cell_type": "markdown",
   "id": "7a02af3a",
   "metadata": {},
   "source": [
    "# EDA"
   ]
  },
  {
   "cell_type": "code",
   "execution_count": 13,
   "id": "f6ef2de1",
   "metadata": {},
   "outputs": [
    {
     "name": "stdout",
     "output_type": "stream",
     "text": [
      "<class 'pandas.core.frame.DataFrame'>\n",
      "RangeIndex: 42644 entries, 0 to 42643\n",
      "Data columns (total 7 columns):\n",
      " #   Column             Non-Null Count  Dtype \n",
      "---  ------             --------------  ----- \n",
      " 0   Review_ID          42644 non-null  int64 \n",
      " 1   Rating             42644 non-null  int64 \n",
      " 2   Year_Month         42644 non-null  object\n",
      " 3   Reviewer_Location  42644 non-null  object\n",
      " 4   Review_text        42644 non-null  object\n",
      " 5   Location           42644 non-null  object\n",
      " 6   Sentiment          42644 non-null  object\n",
      "dtypes: int64(2), object(5)\n",
      "memory usage: 2.3+ MB\n"
     ]
    }
   ],
   "source": [
    "df_main.info()"
   ]
  },
  {
   "cell_type": "code",
   "execution_count": 14,
   "id": "fbb0c06f",
   "metadata": {},
   "outputs": [
    {
     "name": "stdout",
     "output_type": "stream",
     "text": [
      "<class 'pandas.core.frame.DataFrame'>\n",
      "RangeIndex: 42644 entries, 0 to 42643\n",
      "Data columns (total 2 columns):\n",
      " #   Column     Non-Null Count  Dtype \n",
      "---  ------     --------------  ----- \n",
      " 0   Review_ID  42644 non-null  object\n",
      " 1   Rating     42644 non-null  object\n",
      "dtypes: object(2)\n",
      "memory usage: 666.4+ KB\n"
     ]
    }
   ],
   "source": [
    "# Changing the data type for Review ID and Rating to Object\n",
    "df_main[[\"Review_ID\",\"Rating\"]].astype(\"str\").info()"
   ]
  },
  {
   "cell_type": "code",
   "execution_count": 15,
   "id": "3fe305da",
   "metadata": {},
   "outputs": [],
   "source": [
    "# Changing the Year_Month column data type to datetime\n",
    "#df_main[\"Year_Month\"] = pd.to_datetime(df_main[\"Year_Month\"])"
   ]
  },
  {
   "cell_type": "code",
   "execution_count": 16,
   "id": "39c57b97",
   "metadata": {},
   "outputs": [],
   "source": [
    "# Changing the datatype for Year_month to datetime\n",
    "#df_main[\"Year_Month\"] = df_main[\"Year_Month\"].dt.strftime('%Y-%m')"
   ]
  },
  {
   "cell_type": "code",
   "execution_count": 17,
   "id": "e6b489f0",
   "metadata": {},
   "outputs": [
    {
     "data": {
      "text/plain": [
       "<AxesSubplot:xlabel='Rating'>"
      ]
     },
     "execution_count": 17,
     "metadata": {},
     "output_type": "execute_result"
    },
    {
     "data": {
      "image/png": "[encoded data removed]",
      "text/plain": [
       "<Figure size 432x288 with 1 Axes>"
      ]
     },
     "metadata": {
      "needs_background": "light"
     },
     "output_type": "display_data"
    }
   ],
   "source": [
    "# Let's look at the count of review ids per rating \n",
    "df_main.groupby(\"Rating\")[\"Review_ID\"].count().plot(kind = \"bar\", color = \"green\")"
   ]
  },
  {
   "cell_type": "code",
   "execution_count": 19,
   "id": "ae7543da",
   "metadata": {},
   "outputs": [
    {
     "data": {
      "text/html": [
       "<div>\n",
       "<style scoped>\n",
       "    .dataframe tbody tr th:only-of-type {\n",
       "        vertical-align: middle;\n",
       "    }\n",
       "\n",
       "    .dataframe tbody tr th {\n",
       "        vertical-align: top;\n",
       "    }\n",
       "\n",
       "    .dataframe thead tr th {\n",
       "        text-align: left;\n",
       "    }\n",
       "\n",
       "    .dataframe thead tr:last-of-type th {\n",
       "        text-align: right;\n",
       "    }\n",
       "</style>\n",
       "<table border=\"1\" class=\"dataframe\">\n",
       "  <thead>\n",
       "    <tr>\n",
       "      <th></th>\n",
       "      <th colspan=\"8\" halign=\"left\">Review_ID</th>\n",
       "      <th colspan=\"8\" halign=\"left\">Rating</th>\n",
       "    </tr>\n",
       "    <tr>\n",
       "      <th></th>\n",
       "      <th>count</th>\n",
       "      <th>mean</th>\n",
       "      <th>std</th>\n",
       "      <th>min</th>\n",
       "      <th>25%</th>\n",
       "      <th>50%</th>\n",
       "      <th>75%</th>\n",
       "      <th>max</th>\n",
       "      <th>count</th>\n",
       "      <th>mean</th>\n",
       "      <th>std</th>\n",
       "      <th>min</th>\n",
       "      <th>25%</th>\n",
       "      <th>50%</th>\n",
       "      <th>75%</th>\n",
       "      <th>max</th>\n",
       "    </tr>\n",
       "    <tr>\n",
       "      <th>Location</th>\n",
       "      <th></th>\n",
       "      <th></th>\n",
       "      <th></th>\n",
       "      <th></th>\n",
       "      <th></th>\n",
       "      <th></th>\n",
       "      <th></th>\n",
       "      <th></th>\n",
       "      <th></th>\n",
       "      <th></th>\n",
       "      <th></th>\n",
       "      <th></th>\n",
       "      <th></th>\n",
       "      <th></th>\n",
       "      <th></th>\n",
       "      <th></th>\n",
       "    </tr>\n",
       "  </thead>\n",
       "  <tbody>\n",
       "    <tr>\n",
       "      <th>California</th>\n",
       "      <td>19404.0</td>\n",
       "      <td>3.011945e+08</td>\n",
       "      <td>1.594379e+08</td>\n",
       "      <td>1398724.0</td>\n",
       "      <td>164093278.0</td>\n",
       "      <td>270193042.5</td>\n",
       "      <td>4.198311e+08</td>\n",
       "      <td>670801367.0</td>\n",
       "      <td>19404.0</td>\n",
       "      <td>4.405329</td>\n",
       "      <td>0.975637</td>\n",
       "      <td>1.0</td>\n",
       "      <td>4.0</td>\n",
       "      <td>5.0</td>\n",
       "      <td>5.0</td>\n",
       "      <td>5.0</td>\n",
       "    </tr>\n",
       "    <tr>\n",
       "      <th>HongKong</th>\n",
       "      <td>9611.0</td>\n",
       "      <td>3.495548e+08</td>\n",
       "      <td>1.655163e+08</td>\n",
       "      <td>3530053.0</td>\n",
       "      <td>204492156.0</td>\n",
       "      <td>340128396.0</td>\n",
       "      <td>4.771071e+08</td>\n",
       "      <td>670772142.0</td>\n",
       "      <td>9611.0</td>\n",
       "      <td>4.204141</td>\n",
       "      <td>0.933116</td>\n",
       "      <td>1.0</td>\n",
       "      <td>4.0</td>\n",
       "      <td>4.0</td>\n",
       "      <td>5.0</td>\n",
       "      <td>5.0</td>\n",
       "    </tr>\n",
       "    <tr>\n",
       "      <th>Paris</th>\n",
       "      <td>13629.0</td>\n",
       "      <td>3.225050e+08</td>\n",
       "      <td>1.711316e+08</td>\n",
       "      <td>1536786.0</td>\n",
       "      <td>174445678.0</td>\n",
       "      <td>293005605.0</td>\n",
       "      <td>4.645271e+08</td>\n",
       "      <td>670721950.0</td>\n",
       "      <td>13629.0</td>\n",
       "      <td>3.960012</td>\n",
       "      <td>1.205335</td>\n",
       "      <td>1.0</td>\n",
       "      <td>3.0</td>\n",
       "      <td>4.0</td>\n",
       "      <td>5.0</td>\n",
       "      <td>5.0</td>\n",
       "    </tr>\n",
       "  </tbody>\n",
       "</table>\n",
       "</div>"
      ],
      "text/plain": [
       "           Review_ID                                                      \\\n",
       "               count          mean           std        min          25%   \n",
       "Location                                                                   \n",
       "California   19404.0  3.011945e+08  1.594379e+08  1398724.0  164093278.0   \n",
       "HongKong      9611.0  3.495548e+08  1.655163e+08  3530053.0  204492156.0   \n",
       "Paris        13629.0  3.225050e+08  1.711316e+08  1536786.0  174445678.0   \n",
       "\n",
       "                                                     Rating            \\\n",
       "                    50%           75%          max    count      mean   \n",
       "Location                                                                \n",
       "California  270193042.5  4.198311e+08  670801367.0  19404.0  4.405329   \n",
       "HongKong    340128396.0  4.771071e+08  670772142.0   9611.0  4.204141   \n",
       "Paris       293005605.0  4.645271e+08  670721950.0  13629.0  3.960012   \n",
       "\n",
       "                                               \n",
       "                 std  min  25%  50%  75%  max  \n",
       "Location                                       \n",
       "California  0.975637  1.0  4.0  5.0  5.0  5.0  \n",
       "HongKong    0.933116  1.0  4.0  4.0  5.0  5.0  \n",
       "Paris       1.205335  1.0  3.0  4.0  5.0  5.0  "
      ]
     },
     "execution_count": 19,
     "metadata": {},
     "output_type": "execute_result"
    }
   ],
   "source": [
    "df_main.groupby(\"Location\").describe()"
   ]
  },
  {
   "cell_type": "code",
   "execution_count": 19,
   "id": "a6df25dc",
   "metadata": {},
   "outputs": [
    {
     "data": {
      "text/html": [
       "<div>\n",
       "<style scoped>\n",
       "    .dataframe tbody tr th:only-of-type {\n",
       "        vertical-align: middle;\n",
       "    }\n",
       "\n",
       "    .dataframe tbody tr th {\n",
       "        vertical-align: top;\n",
       "    }\n",
       "\n",
       "    .dataframe thead th {\n",
       "        text-align: right;\n",
       "    }\n",
       "</style>\n",
       "<table border=\"1\" class=\"dataframe\">\n",
       "  <thead>\n",
       "    <tr style=\"text-align: right;\">\n",
       "      <th></th>\n",
       "      <th>Reviewer_Location</th>\n",
       "      <th>Review_ID</th>\n",
       "    </tr>\n",
       "  </thead>\n",
       "  <tbody>\n",
       "    <tr>\n",
       "      <th>0</th>\n",
       "      <td>United States</td>\n",
       "      <td>14542</td>\n",
       "    </tr>\n",
       "    <tr>\n",
       "      <th>1</th>\n",
       "      <td>United Kingdom</td>\n",
       "      <td>9751</td>\n",
       "    </tr>\n",
       "    <tr>\n",
       "      <th>2</th>\n",
       "      <td>Australia</td>\n",
       "      <td>4676</td>\n",
       "    </tr>\n",
       "    <tr>\n",
       "      <th>3</th>\n",
       "      <td>Canada</td>\n",
       "      <td>2234</td>\n",
       "    </tr>\n",
       "    <tr>\n",
       "      <th>4</th>\n",
       "      <td>India</td>\n",
       "      <td>1510</td>\n",
       "    </tr>\n",
       "  </tbody>\n",
       "</table>\n",
       "</div>"
      ],
      "text/plain": [
       "  Reviewer_Location  Review_ID\n",
       "0     United States      14542\n",
       "1    United Kingdom       9751\n",
       "2         Australia       4676\n",
       "3            Canada       2234\n",
       "4             India       1510"
      ]
     },
     "execution_count": 19,
     "metadata": {},
     "output_type": "execute_result"
    }
   ],
   "source": [
    "reviewc_loc_id_df = df_main.groupby(\"Reviewer_Location\")[\"Review_ID\"].nunique().sort_values(ascending = False).reset_index()\n",
    "reviewc_loc_id_df.head()\n"
   ]
  },
  {
   "cell_type": "code",
   "execution_count": 20,
   "id": "bda2d28d",
   "metadata": {},
   "outputs": [
    {
     "name": "stdout",
     "output_type": "stream",
     "text": [
      "<class 'pandas.core.frame.DataFrame'>\n",
      "RangeIndex: 162 entries, 0 to 161\n",
      "Data columns (total 2 columns):\n",
      " #   Column             Non-Null Count  Dtype \n",
      "---  ------             --------------  ----- \n",
      " 0   Reviewer_Location  162 non-null    object\n",
      " 1   Review_ID          162 non-null    int64 \n",
      "dtypes: int64(1), object(1)\n",
      "memory usage: 2.7+ KB\n"
     ]
    }
   ],
   "source": [
    "reviewc_loc_id_df.info()"
   ]
  },
  {
   "cell_type": "code",
   "execution_count": 21,
   "id": "28d24b73",
   "metadata": {},
   "outputs": [],
   "source": [
    "reviewc_loc_id_df[\"Review_ID\"] = reviewc_loc_id_df[\"Review_ID\"].astype(\"str\")"
   ]
  },
  {
   "cell_type": "code",
   "execution_count": 22,
   "id": "4073aff6",
   "metadata": {},
   "outputs": [
    {
     "data": {
      "text/html": [
       "<div>\n",
       "<style scoped>\n",
       "    .dataframe tbody tr th:only-of-type {\n",
       "        vertical-align: middle;\n",
       "    }\n",
       "\n",
       "    .dataframe tbody tr th {\n",
       "        vertical-align: top;\n",
       "    }\n",
       "\n",
       "    .dataframe thead th {\n",
       "        text-align: right;\n",
       "    }\n",
       "</style>\n",
       "<table border=\"1\" class=\"dataframe\">\n",
       "  <thead>\n",
       "    <tr style=\"text-align: right;\">\n",
       "      <th></th>\n",
       "      <th>Reviewer_Location</th>\n",
       "      <th>Rating</th>\n",
       "    </tr>\n",
       "  </thead>\n",
       "  <tbody>\n",
       "    <tr>\n",
       "      <th>0</th>\n",
       "      <td>Libya</td>\n",
       "      <td>5.0</td>\n",
       "    </tr>\n",
       "    <tr>\n",
       "      <th>1</th>\n",
       "      <td>Caribbean Netherlands</td>\n",
       "      <td>5.0</td>\n",
       "    </tr>\n",
       "    <tr>\n",
       "      <th>2</th>\n",
       "      <td>Cuba</td>\n",
       "      <td>5.0</td>\n",
       "    </tr>\n",
       "    <tr>\n",
       "      <th>3</th>\n",
       "      <td>Curaçao</td>\n",
       "      <td>5.0</td>\n",
       "    </tr>\n",
       "    <tr>\n",
       "      <th>4</th>\n",
       "      <td>Ethiopia</td>\n",
       "      <td>5.0</td>\n",
       "    </tr>\n",
       "  </tbody>\n",
       "</table>\n",
       "</div>"
      ],
      "text/plain": [
       "       Reviewer_Location  Rating\n",
       "0                  Libya     5.0\n",
       "1  Caribbean Netherlands     5.0\n",
       "2                   Cuba     5.0\n",
       "3                Curaçao     5.0\n",
       "4               Ethiopia     5.0"
      ]
     },
     "execution_count": 22,
     "metadata": {},
     "output_type": "execute_result"
    }
   ],
   "source": [
    "\n",
    "loc_rat_df = df_main.groupby(\"Reviewer_Location\").agg({\"Rating\":\"mean\"}).sort_values(by = \"Rating\", ascending = False).reset_index()\n",
    "loc_rat_df.head()\n",
    "\n",
    "   \n",
    "#df_main.groupby('Reviewer_Location').agg({'Rating': ['mean', 'min', 'max']})"
   ]
  },
  {
   "cell_type": "code",
   "execution_count": 23,
   "id": "8ec61ee9",
   "metadata": {},
   "outputs": [
    {
     "data": {
      "text/html": [
       "<div>\n",
       "<style scoped>\n",
       "    .dataframe tbody tr th:only-of-type {\n",
       "        vertical-align: middle;\n",
       "    }\n",
       "\n",
       "    .dataframe tbody tr th {\n",
       "        vertical-align: top;\n",
       "    }\n",
       "\n",
       "    .dataframe thead th {\n",
       "        text-align: right;\n",
       "    }\n",
       "</style>\n",
       "<table border=\"1\" class=\"dataframe\">\n",
       "  <thead>\n",
       "    <tr style=\"text-align: right;\">\n",
       "      <th></th>\n",
       "      <th>Reviewer_Location</th>\n",
       "      <th>Rating</th>\n",
       "      <th>Review_ID</th>\n",
       "    </tr>\n",
       "  </thead>\n",
       "  <tbody>\n",
       "    <tr>\n",
       "      <th>0</th>\n",
       "      <td>Afghanistan</td>\n",
       "      <td>4.500000</td>\n",
       "      <td>2</td>\n",
       "    </tr>\n",
       "    <tr>\n",
       "      <th>1</th>\n",
       "      <td>Albania</td>\n",
       "      <td>4.833333</td>\n",
       "      <td>6</td>\n",
       "    </tr>\n",
       "    <tr>\n",
       "      <th>2</th>\n",
       "      <td>Algeria</td>\n",
       "      <td>4.500000</td>\n",
       "      <td>2</td>\n",
       "    </tr>\n",
       "    <tr>\n",
       "      <th>3</th>\n",
       "      <td>Andorra</td>\n",
       "      <td>3.500000</td>\n",
       "      <td>2</td>\n",
       "    </tr>\n",
       "    <tr>\n",
       "      <th>4</th>\n",
       "      <td>Antigua and Barbuda</td>\n",
       "      <td>4.000000</td>\n",
       "      <td>1</td>\n",
       "    </tr>\n",
       "  </tbody>\n",
       "</table>\n",
       "</div>"
      ],
      "text/plain": [
       "     Reviewer_Location    Rating Review_ID\n",
       "0          Afghanistan  4.500000         2\n",
       "1              Albania  4.833333         6\n",
       "2              Algeria  4.500000         2\n",
       "3              Andorra  3.500000         2\n",
       "4  Antigua and Barbuda  4.000000         1"
      ]
     },
     "execution_count": 23,
     "metadata": {},
     "output_type": "execute_result"
    }
   ],
   "source": [
    "insight_df = loc_rat_df.merge(reviewc_loc_id_df, on = \"Reviewer_Location\" , how = \"outer\",sort = True)\n",
    "insight_df.head()"
   ]
  },
  {
   "cell_type": "markdown",
   "id": "e3c08ac0",
   "metadata": {},
   "source": [
    "# Analysis"
   ]
  },
  {
   "cell_type": "code",
   "execution_count": 25,
   "id": "8e772ef4",
   "metadata": {
    "scrolled": true
   },
   "outputs": [
    {
     "data": {
      "text/html": [
       "<div>\n",
       "<style scoped>\n",
       "    .dataframe tbody tr th:only-of-type {\n",
       "        vertical-align: middle;\n",
       "    }\n",
       "\n",
       "    .dataframe tbody tr th {\n",
       "        vertical-align: top;\n",
       "    }\n",
       "\n",
       "    .dataframe thead th {\n",
       "        text-align: right;\n",
       "    }\n",
       "</style>\n",
       "<table border=\"1\" class=\"dataframe\">\n",
       "  <thead>\n",
       "    <tr style=\"text-align: right;\">\n",
       "      <th></th>\n",
       "      <th>Reviewer_Location</th>\n",
       "      <th>Review_text</th>\n",
       "      <th>Rating</th>\n",
       "      <th>Year_Month</th>\n",
       "    </tr>\n",
       "  </thead>\n",
       "  <tbody>\n",
       "    <tr>\n",
       "      <th>0</th>\n",
       "      <td>Australia</td>\n",
       "      <td>If you've ever been to Disneyland anywhere you'll find Disneyland Hong Kong very similar in the layout when you walk into main street! It has a very familiar feel. One of the rides  its a Small World  is absolutely fabulous and worth doing. The day we visited was fairly hot and relatively busy but the queues moved fairly well.</td>\n",
       "      <td>4</td>\n",
       "      <td>2019-4</td>\n",
       "    </tr>\n",
       "    <tr>\n",
       "      <th>1</th>\n",
       "      <td>Philippines</td>\n",
       "      <td>Its been a while since d last time we visit HK Disneyland .. Yet, this time we only stay in Tomorrowland .. AKA Marvel land!Now they have Iron Man Experience n d Newly open Ant Man n d Wasp!!Ironman .. Great feature n so Exciting, especially d whole scenery of HK (HK central area to Kowloon)!Antman .. Changed by previous Buzz lightyear! More or less d same, but I'm expecting to have something most!!However, my boys like it!!Space Mountain .. Turns into Star Wars!! This 1 is Great!!!For cast members (staffs) .. Felt bit MINUS point from before!!! Just dun feel like its a Disney brand!! Seem...</td>\n",
       "      <td>4</td>\n",
       "      <td>2019-5</td>\n",
       "    </tr>\n",
       "    <tr>\n",
       "      <th>2</th>\n",
       "      <td>United Arab Emirates</td>\n",
       "      <td>Thanks God it wasn   t too hot or too humid when I was visiting the park   otherwise it would be a big issue (there is not a lot of shade).I have arrived around 10:30am and left at 6pm. Unfortunately I didn   t last until evening parade, but 8.5 hours was too much for me.There is plenty to do and everyone will find something interesting for themselves to enjoy.It wasn   t extremely busy and the longest time I had to queue for certain attractions was 45 minutes (which is really not that bad).Although I had an amazing time, I felt a bit underwhelmed with choice of rides and attractions. The ...</td>\n",
       "      <td>4</td>\n",
       "      <td>2019-4</td>\n",
       "    </tr>\n",
       "    <tr>\n",
       "      <th>3</th>\n",
       "      <td>Australia</td>\n",
       "      <td>HK Disneyland is a great compact park. Unfortunately there is quite a bit of maintenance work going on at present so a number of areas are closed off (including the famous castle) If you go midweek, it is not too crowded and certainly no where near as bus as LA Disneyland. We did notice on this visit that prices for food, drinks etc have really gone through the roof so be prepared to pay top dollar for snacks (and avoid the souvenir shops if you can) Regardless, kids will love it.</td>\n",
       "      <td>4</td>\n",
       "      <td>2019-4</td>\n",
       "    </tr>\n",
       "    <tr>\n",
       "      <th>4</th>\n",
       "      <td>United Kingdom</td>\n",
       "      <td>the location is not in the city, took around 1 hour from Kowlon, my kids like disneyland so much, everything is fine.   but its really crowded and hot in Hong Kong</td>\n",
       "      <td>4</td>\n",
       "      <td>2019-4</td>\n",
       "    </tr>\n",
       "  </tbody>\n",
       "</table>\n",
       "</div>"
      ],
      "text/plain": [
       "      Reviewer_Location  \\\n",
       "0             Australia   \n",
       "1           Philippines   \n",
       "2  United Arab Emirates   \n",
       "3             Australia   \n",
       "4        United Kingdom   \n",
       "\n",
       "                                                                                                                                                                                                                                                                                                                                                                                                                                                                                                                                                                                                               Review_text  \\\n",
       "0                                                                                                                                                                                                                                                                                If you've ever been to Disneyland anywhere you'll find Disneyland Hong Kong very similar in the layout when you walk into main street! It has a very familiar feel. One of the rides  its a Small World  is absolutely fabulous and worth doing. The day we visited was fairly hot and relatively busy but the queues moved fairly well.    \n",
       "1  Its been a while since d last time we visit HK Disneyland .. Yet, this time we only stay in Tomorrowland .. AKA Marvel land!Now they have Iron Man Experience n d Newly open Ant Man n d Wasp!!Ironman .. Great feature n so Exciting, especially d whole scenery of HK (HK central area to Kowloon)!Antman .. Changed by previous Buzz lightyear! More or less d same, but I'm expecting to have something most!!However, my boys like it!!Space Mountain .. Turns into Star Wars!! This 1 is Great!!!For cast members (staffs) .. Felt bit MINUS point from before!!! Just dun feel like its a Disney brand!! Seem...   \n",
       "2  Thanks God it wasn   t too hot or too humid when I was visiting the park   otherwise it would be a big issue (there is not a lot of shade).I have arrived around 10:30am and left at 6pm. Unfortunately I didn   t last until evening parade, but 8.5 hours was too much for me.There is plenty to do and everyone will find something interesting for themselves to enjoy.It wasn   t extremely busy and the longest time I had to queue for certain attractions was 45 minutes (which is really not that bad).Although I had an amazing time, I felt a bit underwhelmed with choice of rides and attractions. The ...   \n",
       "3                                                                                                                    HK Disneyland is a great compact park. Unfortunately there is quite a bit of maintenance work going on at present so a number of areas are closed off (including the famous castle) If you go midweek, it is not too crowded and certainly no where near as bus as LA Disneyland. We did notice on this visit that prices for food, drinks etc have really gone through the roof so be prepared to pay top dollar for snacks (and avoid the souvenir shops if you can) Regardless, kids will love it.   \n",
       "4                                                                                                                                                                                                                                                                                                                                                                                                                                                      the location is not in the city, took around 1 hour from Kowlon, my kids like disneyland so much, everything is fine.   but its really crowded and hot in Hong Kong   \n",
       "\n",
       "   Rating Year_Month  \n",
       "0       4     2019-4  \n",
       "1       4     2019-5  \n",
       "2       4     2019-4  \n",
       "3       4     2019-4  \n",
       "4       4     2019-4  "
      ]
     },
     "execution_count": 25,
     "metadata": {},
     "output_type": "execute_result"
    }
   ],
   "source": [
    "df_main_subset = df_main[[\"Reviewer_Location\",\"Review_text\",\"Rating\",\"Year_Month\"]]\n",
    "df_main_subset.head()"
   ]
  },
  {
   "cell_type": "code",
   "execution_count": 26,
   "id": "14ab053b",
   "metadata": {},
   "outputs": [],
   "source": [
    "Reviewer_Location = df_main_subset.groupby(\"Reviewer_Location\")"
   ]
  },
  {
   "cell_type": "code",
   "execution_count": 27,
   "id": "e87ac628",
   "metadata": {},
   "outputs": [
    {
     "data": {
      "text/html": [
       "<div>\n",
       "<style scoped>\n",
       "    .dataframe tbody tr th:only-of-type {\n",
       "        vertical-align: middle;\n",
       "    }\n",
       "\n",
       "    .dataframe tbody tr th {\n",
       "        vertical-align: top;\n",
       "    }\n",
       "\n",
       "    .dataframe thead tr th {\n",
       "        text-align: left;\n",
       "    }\n",
       "\n",
       "    .dataframe thead tr:last-of-type th {\n",
       "        text-align: right;\n",
       "    }\n",
       "</style>\n",
       "<table border=\"1\" class=\"dataframe\">\n",
       "  <thead>\n",
       "    <tr>\n",
       "      <th></th>\n",
       "      <th colspan=\"8\" halign=\"left\">Rating</th>\n",
       "    </tr>\n",
       "    <tr>\n",
       "      <th></th>\n",
       "      <th>count</th>\n",
       "      <th>mean</th>\n",
       "      <th>std</th>\n",
       "      <th>min</th>\n",
       "      <th>25%</th>\n",
       "      <th>50%</th>\n",
       "      <th>75%</th>\n",
       "      <th>max</th>\n",
       "    </tr>\n",
       "    <tr>\n",
       "      <th>Reviewer_Location</th>\n",
       "      <th></th>\n",
       "      <th></th>\n",
       "      <th></th>\n",
       "      <th></th>\n",
       "      <th></th>\n",
       "      <th></th>\n",
       "      <th></th>\n",
       "      <th></th>\n",
       "    </tr>\n",
       "  </thead>\n",
       "  <tbody>\n",
       "    <tr>\n",
       "      <th>Afghanistan</th>\n",
       "      <td>2.0</td>\n",
       "      <td>4.500000</td>\n",
       "      <td>0.707107</td>\n",
       "      <td>4.0</td>\n",
       "      <td>4.25</td>\n",
       "      <td>4.5</td>\n",
       "      <td>4.75</td>\n",
       "      <td>5.0</td>\n",
       "    </tr>\n",
       "    <tr>\n",
       "      <th>Albania</th>\n",
       "      <td>6.0</td>\n",
       "      <td>4.833333</td>\n",
       "      <td>0.408248</td>\n",
       "      <td>4.0</td>\n",
       "      <td>5.00</td>\n",
       "      <td>5.0</td>\n",
       "      <td>5.00</td>\n",
       "      <td>5.0</td>\n",
       "    </tr>\n",
       "    <tr>\n",
       "      <th>Algeria</th>\n",
       "      <td>2.0</td>\n",
       "      <td>4.500000</td>\n",
       "      <td>0.707107</td>\n",
       "      <td>4.0</td>\n",
       "      <td>4.25</td>\n",
       "      <td>4.5</td>\n",
       "      <td>4.75</td>\n",
       "      <td>5.0</td>\n",
       "    </tr>\n",
       "    <tr>\n",
       "      <th>Andorra</th>\n",
       "      <td>2.0</td>\n",
       "      <td>3.500000</td>\n",
       "      <td>2.121320</td>\n",
       "      <td>2.0</td>\n",
       "      <td>2.75</td>\n",
       "      <td>3.5</td>\n",
       "      <td>4.25</td>\n",
       "      <td>5.0</td>\n",
       "    </tr>\n",
       "    <tr>\n",
       "      <th>Antigua and Barbuda</th>\n",
       "      <td>1.0</td>\n",
       "      <td>4.000000</td>\n",
       "      <td>NaN</td>\n",
       "      <td>4.0</td>\n",
       "      <td>4.00</td>\n",
       "      <td>4.0</td>\n",
       "      <td>4.00</td>\n",
       "      <td>4.0</td>\n",
       "    </tr>\n",
       "    <tr>\n",
       "      <th>...</th>\n",
       "      <td>...</td>\n",
       "      <td>...</td>\n",
       "      <td>...</td>\n",
       "      <td>...</td>\n",
       "      <td>...</td>\n",
       "      <td>...</td>\n",
       "      <td>...</td>\n",
       "      <td>...</td>\n",
       "    </tr>\n",
       "    <tr>\n",
       "      <th>Venezuela</th>\n",
       "      <td>3.0</td>\n",
       "      <td>4.666667</td>\n",
       "      <td>0.577350</td>\n",
       "      <td>4.0</td>\n",
       "      <td>4.50</td>\n",
       "      <td>5.0</td>\n",
       "      <td>5.00</td>\n",
       "      <td>5.0</td>\n",
       "    </tr>\n",
       "    <tr>\n",
       "      <th>Vietnam</th>\n",
       "      <td>55.0</td>\n",
       "      <td>4.000000</td>\n",
       "      <td>0.922958</td>\n",
       "      <td>2.0</td>\n",
       "      <td>3.00</td>\n",
       "      <td>4.0</td>\n",
       "      <td>5.00</td>\n",
       "      <td>5.0</td>\n",
       "    </tr>\n",
       "    <tr>\n",
       "      <th>Zambia</th>\n",
       "      <td>4.0</td>\n",
       "      <td>4.250000</td>\n",
       "      <td>0.957427</td>\n",
       "      <td>3.0</td>\n",
       "      <td>3.75</td>\n",
       "      <td>4.5</td>\n",
       "      <td>5.00</td>\n",
       "      <td>5.0</td>\n",
       "    </tr>\n",
       "    <tr>\n",
       "      <th>Zimbabwe</th>\n",
       "      <td>2.0</td>\n",
       "      <td>4.500000</td>\n",
       "      <td>0.707107</td>\n",
       "      <td>4.0</td>\n",
       "      <td>4.25</td>\n",
       "      <td>4.5</td>\n",
       "      <td>4.75</td>\n",
       "      <td>5.0</td>\n",
       "    </tr>\n",
       "    <tr>\n",
       "      <th>Åland Islands</th>\n",
       "      <td>1.0</td>\n",
       "      <td>5.000000</td>\n",
       "      <td>NaN</td>\n",
       "      <td>5.0</td>\n",
       "      <td>5.00</td>\n",
       "      <td>5.0</td>\n",
       "      <td>5.00</td>\n",
       "      <td>5.0</td>\n",
       "    </tr>\n",
       "  </tbody>\n",
       "</table>\n",
       "<p>162 rows × 8 columns</p>\n",
       "</div>"
      ],
      "text/plain": [
       "                    Rating                                               \n",
       "                     count      mean       std  min   25%  50%   75%  max\n",
       "Reviewer_Location                                                        \n",
       "Afghanistan            2.0  4.500000  0.707107  4.0  4.25  4.5  4.75  5.0\n",
       "Albania                6.0  4.833333  0.408248  4.0  5.00  5.0  5.00  5.0\n",
       "Algeria                2.0  4.500000  0.707107  4.0  4.25  4.5  4.75  5.0\n",
       "Andorra                2.0  3.500000  2.121320  2.0  2.75  3.5  4.25  5.0\n",
       "Antigua and Barbuda    1.0  4.000000       NaN  4.0  4.00  4.0  4.00  4.0\n",
       "...                    ...       ...       ...  ...   ...  ...   ...  ...\n",
       "Venezuela              3.0  4.666667  0.577350  4.0  4.50  5.0  5.00  5.0\n",
       "Vietnam               55.0  4.000000  0.922958  2.0  3.00  4.0  5.00  5.0\n",
       "Zambia                 4.0  4.250000  0.957427  3.0  3.75  4.5  5.00  5.0\n",
       "Zimbabwe               2.0  4.500000  0.707107  4.0  4.25  4.5  4.75  5.0\n",
       "Åland Islands          1.0  5.000000       NaN  5.0  5.00  5.0  5.00  5.0\n",
       "\n",
       "[162 rows x 8 columns]"
      ]
     },
     "execution_count": 27,
     "metadata": {},
     "output_type": "execute_result"
    }
   ],
   "source": [
    "# Summary statistic of all countries\n",
    "Reviewer_Location.describe()"
   ]
  },
  {
   "cell_type": "code",
   "execution_count": 28,
   "id": "88073a99",
   "metadata": {},
   "outputs": [
    {
     "data": {
      "image/png": "[encoded data removed]",
      "text/plain": [
       "<Figure size 4320x1440 with 1 Axes>"
      ]
     },
     "metadata": {
      "needs_background": "light"
     },
     "output_type": "display_data"
    }
   ],
   "source": [
    "plt.figure(figsize=(60,20))\n",
    "Reviewer_Location.size().sort_values(ascending=False).plot.bar(color = \"purple\")\n",
    "plt.xticks(rotation=50)\n",
    "plt.xlabel(\"Reviewer Location\")\n",
    "plt.ylabel(\"Count of Ratings\")\n",
    "plt.title(\"Counts of Ratings Per Reviewer Location\")\n",
    "plt.show()\n"
   ]
  },
  {
   "cell_type": "code",
   "execution_count": 29,
   "id": "9c08f3a7",
   "metadata": {},
   "outputs": [
    {
     "data": {
      "text/html": [
       "<div>\n",
       "<style scoped>\n",
       "    .dataframe tbody tr th:only-of-type {\n",
       "        vertical-align: middle;\n",
       "    }\n",
       "\n",
       "    .dataframe tbody tr th {\n",
       "        vertical-align: top;\n",
       "    }\n",
       "\n",
       "    .dataframe thead th {\n",
       "        text-align: right;\n",
       "    }\n",
       "</style>\n",
       "<table border=\"1\" class=\"dataframe\">\n",
       "  <thead>\n",
       "    <tr style=\"text-align: right;\">\n",
       "      <th></th>\n",
       "      <th>Rating</th>\n",
       "    </tr>\n",
       "    <tr>\n",
       "      <th>Reviewer_Location</th>\n",
       "      <th></th>\n",
       "    </tr>\n",
       "  </thead>\n",
       "  <tbody>\n",
       "    <tr>\n",
       "      <th>Libya</th>\n",
       "      <td>5.000000</td>\n",
       "    </tr>\n",
       "    <tr>\n",
       "      <th>Caribbean Netherlands</th>\n",
       "      <td>5.000000</td>\n",
       "    </tr>\n",
       "    <tr>\n",
       "      <th>Cuba</th>\n",
       "      <td>5.000000</td>\n",
       "    </tr>\n",
       "    <tr>\n",
       "      <th>Curaçao</th>\n",
       "      <td>5.000000</td>\n",
       "    </tr>\n",
       "    <tr>\n",
       "      <th>Ethiopia</th>\n",
       "      <td>5.000000</td>\n",
       "    </tr>\n",
       "    <tr>\n",
       "      <th>Falkland Islands (Islas Malvinas)</th>\n",
       "      <td>5.000000</td>\n",
       "    </tr>\n",
       "    <tr>\n",
       "      <th>Georgia</th>\n",
       "      <td>5.000000</td>\n",
       "    </tr>\n",
       "    <tr>\n",
       "      <th>Grenada</th>\n",
       "      <td>5.000000</td>\n",
       "    </tr>\n",
       "    <tr>\n",
       "      <th>Iraq</th>\n",
       "      <td>5.000000</td>\n",
       "    </tr>\n",
       "    <tr>\n",
       "      <th>Mali</th>\n",
       "      <td>5.000000</td>\n",
       "    </tr>\n",
       "    <tr>\n",
       "      <th>Monaco</th>\n",
       "      <td>5.000000</td>\n",
       "    </tr>\n",
       "    <tr>\n",
       "      <th>Namibia</th>\n",
       "      <td>5.000000</td>\n",
       "    </tr>\n",
       "    <tr>\n",
       "      <th>Nicaragua</th>\n",
       "      <td>5.000000</td>\n",
       "    </tr>\n",
       "    <tr>\n",
       "      <th>North Macedonia</th>\n",
       "      <td>5.000000</td>\n",
       "    </tr>\n",
       "    <tr>\n",
       "      <th>Rwanda</th>\n",
       "      <td>5.000000</td>\n",
       "    </tr>\n",
       "    <tr>\n",
       "      <th>Senegal</th>\n",
       "      <td>5.000000</td>\n",
       "    </tr>\n",
       "    <tr>\n",
       "      <th>Sudan</th>\n",
       "      <td>5.000000</td>\n",
       "    </tr>\n",
       "    <tr>\n",
       "      <th>Timor-Leste</th>\n",
       "      <td>5.000000</td>\n",
       "    </tr>\n",
       "    <tr>\n",
       "      <th>Uzbekistan</th>\n",
       "      <td>5.000000</td>\n",
       "    </tr>\n",
       "    <tr>\n",
       "      <th>Cayman Islands</th>\n",
       "      <td>5.000000</td>\n",
       "    </tr>\n",
       "    <tr>\n",
       "      <th>Åland Islands</th>\n",
       "      <td>5.000000</td>\n",
       "    </tr>\n",
       "    <tr>\n",
       "      <th>Azerbaijan</th>\n",
       "      <td>5.000000</td>\n",
       "    </tr>\n",
       "    <tr>\n",
       "      <th>Armenia</th>\n",
       "      <td>5.000000</td>\n",
       "    </tr>\n",
       "    <tr>\n",
       "      <th>Aruba</th>\n",
       "      <td>5.000000</td>\n",
       "    </tr>\n",
       "    <tr>\n",
       "      <th>Albania</th>\n",
       "      <td>4.833333</td>\n",
       "    </tr>\n",
       "    <tr>\n",
       "      <th>Fiji</th>\n",
       "      <td>4.800000</td>\n",
       "    </tr>\n",
       "    <tr>\n",
       "      <th>Iceland</th>\n",
       "      <td>4.800000</td>\n",
       "    </tr>\n",
       "    <tr>\n",
       "      <th>Slovakia</th>\n",
       "      <td>4.777778</td>\n",
       "    </tr>\n",
       "    <tr>\n",
       "      <th>Jordan</th>\n",
       "      <td>4.750000</td>\n",
       "    </tr>\n",
       "    <tr>\n",
       "      <th>Seychelles</th>\n",
       "      <td>4.750000</td>\n",
       "    </tr>\n",
       "    <tr>\n",
       "      <th>Myanmar (Burma)</th>\n",
       "      <td>4.714286</td>\n",
       "    </tr>\n",
       "    <tr>\n",
       "      <th>Venezuela</th>\n",
       "      <td>4.666667</td>\n",
       "    </tr>\n",
       "    <tr>\n",
       "      <th>Bosnia and Herzegovina</th>\n",
       "      <td>4.625000</td>\n",
       "    </tr>\n",
       "    <tr>\n",
       "      <th>Ukraine</th>\n",
       "      <td>4.625000</td>\n",
       "    </tr>\n",
       "    <tr>\n",
       "      <th>Guam</th>\n",
       "      <td>4.625000</td>\n",
       "    </tr>\n",
       "    <tr>\n",
       "      <th>Pakistan</th>\n",
       "      <td>4.600000</td>\n",
       "    </tr>\n",
       "    <tr>\n",
       "      <th>Lithuania</th>\n",
       "      <td>4.600000</td>\n",
       "    </tr>\n",
       "    <tr>\n",
       "      <th>Peru</th>\n",
       "      <td>4.583333</td>\n",
       "    </tr>\n",
       "    <tr>\n",
       "      <th>Kazakhstan</th>\n",
       "      <td>4.571429</td>\n",
       "    </tr>\n",
       "    <tr>\n",
       "      <th>Iran</th>\n",
       "      <td>4.518519</td>\n",
       "    </tr>\n",
       "  </tbody>\n",
       "</table>\n",
       "</div>"
      ],
      "text/plain": [
       "                                     Rating\n",
       "Reviewer_Location                          \n",
       "Libya                              5.000000\n",
       "Caribbean Netherlands              5.000000\n",
       "Cuba                               5.000000\n",
       "Curaçao                            5.000000\n",
       "Ethiopia                           5.000000\n",
       "Falkland Islands (Islas Malvinas)  5.000000\n",
       "Georgia                            5.000000\n",
       "Grenada                            5.000000\n",
       "Iraq                               5.000000\n",
       "Mali                               5.000000\n",
       "Monaco                             5.000000\n",
       "Namibia                            5.000000\n",
       "Nicaragua                          5.000000\n",
       "North Macedonia                    5.000000\n",
       "Rwanda                             5.000000\n",
       "Senegal                            5.000000\n",
       "Sudan                              5.000000\n",
       "Timor-Leste                        5.000000\n",
       "Uzbekistan                         5.000000\n",
       "Cayman Islands                     5.000000\n",
       "Åland Islands                      5.000000\n",
       "Azerbaijan                         5.000000\n",
       "Armenia                            5.000000\n",
       "Aruba                              5.000000\n",
       "Albania                            4.833333\n",
       "Fiji                               4.800000\n",
       "Iceland                            4.800000\n",
       "Slovakia                           4.777778\n",
       "Jordan                             4.750000\n",
       "Seychelles                         4.750000\n",
       "Myanmar (Burma)                    4.714286\n",
       "Venezuela                          4.666667\n",
       "Bosnia and Herzegovina             4.625000\n",
       "Ukraine                            4.625000\n",
       "Guam                               4.625000\n",
       "Pakistan                           4.600000\n",
       "Lithuania                          4.600000\n",
       "Peru                               4.583333\n",
       "Kazakhstan                         4.571429\n",
       "Iran                               4.518519"
      ]
     },
     "execution_count": 29,
     "metadata": {},
     "output_type": "execute_result"
    }
   ],
   "source": [
    "# Mean of Rating per each country\n",
    "Reviewer_Location.mean().sort_values(by=\"Rating\",ascending=False).head(40)"
   ]
  },
  {
   "cell_type": "code",
   "execution_count": 30,
   "id": "3d07d2e4",
   "metadata": {},
   "outputs": [
    {
     "data": {
      "image/png": "[encoded data removed]",
      "text/plain": [
       "<Figure size 4320x1440 with 1 Axes>"
      ]
     },
     "metadata": {
      "needs_background": "light"
     },
     "output_type": "display_data"
    }
   ],
   "source": [
    "\n",
    "plt.figure(figsize=(60,20))\n",
    "Reviewer_Location.max().sort_values(by=\"Rating\",ascending=False)[\"Rating\"].plot.bar(color = \"Orange\")\n",
    "plt.xticks(rotation=90)\n",
    "plt.xlabel(\"Country of Origin\")\n",
    "plt.ylabel(\"Highest point of Wines\")\n",
    "plt.show()"
   ]
  },
  {
   "cell_type": "code",
   "execution_count": 31,
   "id": "e8f2e2d0",
   "metadata": {},
   "outputs": [
    {
     "data": {
      "text/html": [
       "<div>\n",
       "<style scoped>\n",
       "    .dataframe tbody tr th:only-of-type {\n",
       "        vertical-align: middle;\n",
       "    }\n",
       "\n",
       "    .dataframe tbody tr th {\n",
       "        vertical-align: top;\n",
       "    }\n",
       "\n",
       "    .dataframe thead th {\n",
       "        text-align: right;\n",
       "    }\n",
       "</style>\n",
       "<table border=\"1\" class=\"dataframe\">\n",
       "  <thead>\n",
       "    <tr style=\"text-align: right;\">\n",
       "      <th></th>\n",
       "      <th></th>\n",
       "      <th>Rating</th>\n",
       "    </tr>\n",
       "    <tr>\n",
       "      <th>Location</th>\n",
       "      <th>Reviewer_Location</th>\n",
       "      <th></th>\n",
       "    </tr>\n",
       "  </thead>\n",
       "  <tbody>\n",
       "    <tr>\n",
       "      <th rowspan=\"2\" valign=\"top\">Paris</th>\n",
       "      <th>Guatemala</th>\n",
       "      <td>1.0</td>\n",
       "    </tr>\n",
       "    <tr>\n",
       "      <th>Haiti</th>\n",
       "      <td>1.0</td>\n",
       "    </tr>\n",
       "    <tr>\n",
       "      <th>HongKong</th>\n",
       "      <th>Costa Rica</th>\n",
       "      <td>1.0</td>\n",
       "    </tr>\n",
       "    <tr>\n",
       "      <th>Paris</th>\n",
       "      <th>Brunei</th>\n",
       "      <td>1.0</td>\n",
       "    </tr>\n",
       "    <tr>\n",
       "      <th>HongKong</th>\n",
       "      <th>Montenegro</th>\n",
       "      <td>1.0</td>\n",
       "    </tr>\n",
       "  </tbody>\n",
       "</table>\n",
       "</div>"
      ],
      "text/plain": [
       "                            Rating\n",
       "Location Reviewer_Location        \n",
       "Paris    Guatemala             1.0\n",
       "         Haiti                 1.0\n",
       "HongKong Costa Rica            1.0\n",
       "Paris    Brunei                1.0\n",
       "HongKong Montenegro            1.0"
      ]
     },
     "execution_count": 31,
     "metadata": {},
     "output_type": "execute_result"
    }
   ],
   "source": [
    "rating_per_loc_perrevloc = df_main.groupby([\"Location\",\"Reviewer_Location\"]).agg({\"Rating\":\"mean\"}).sort_values(by = \"Rating\",ascending = True)\n",
    "rating_per_loc_perrevloc.head()\n",
    "#rating_per_loc_perrevloc.plot(figsize = (20,20))"
   ]
  },
  {
   "cell_type": "code",
   "execution_count": 32,
   "id": "1787a60c",
   "metadata": {},
   "outputs": [
    {
     "data": {
      "text/plain": [
       "361"
      ]
     },
     "execution_count": 32,
     "metadata": {},
     "output_type": "execute_result"
    }
   ],
   "source": [
    "len(rating_per_loc_perrevloc)"
   ]
  },
  {
   "cell_type": "code",
   "execution_count": 33,
   "id": "5781c228",
   "metadata": {},
   "outputs": [
    {
     "name": "stdout",
     "output_type": "stream",
     "text": [
      "There are 29763229 words in the combination of all review.\n"
     ]
    }
   ],
   "source": [
    "# stacking the reviews on top of each other seperated by a space\n",
    "text = \" \".join(review for review in df_main.Review_text)\n",
    "print (\"There are {} words in the combination of all review.\".format(len(text)))"
   ]
  },
  {
   "cell_type": "code",
   "execution_count": 34,
   "id": "dc684033",
   "metadata": {},
   "outputs": [
    {
     "data": {
      "image/png": "[encoded data removed]",
      "text/plain": [
       "<Figure size 432x288 with 1 Axes>"
      ]
     },
     "metadata": {
      "needs_background": "light"
     },
     "output_type": "display_data"
    },
    {
     "data": {
      "text/plain": [
       "<AxesSubplot:xlabel='Samples', ylabel='Counts'>"
      ]
     },
     "execution_count": 34,
     "metadata": {},
     "output_type": "execute_result"
    }
   ],
   "source": [
    "tokenizer = RegexpTokenizer(r'\\w+')\n",
    "tokens = tokenizer.tokenize(text)\n",
    "freq = FreqDist(tokens)\n",
    "freq.plot(20)"
   ]
  },
  {
   "cell_type": "code",
   "execution_count": 35,
   "id": "47babfb7",
   "metadata": {},
   "outputs": [
    {
     "data": {
      "image/png": "[encoded data removed]",
      "text/plain": [
       "<Figure size 432x288 with 1 Axes>"
      ]
     },
     "metadata": {
      "needs_background": "light"
     },
     "output_type": "display_data"
    },
    {
     "data": {
      "text/plain": [
       "<AxesSubplot:xlabel='Samples', ylabel='Counts'>"
      ]
     },
     "execution_count": 35,
     "metadata": {},
     "output_type": "execute_result"
    }
   ],
   "source": [
    "#Convert everything to lowercase\n",
    "text = text.lower() #Lower casing\n",
    "#text = text.replace(str(stopwords),\"\") # Deleting the stopwords\n",
    "#text = unidecode.unidecode(text) #Removing the accented words\n",
    "#text = lemmatizer.lemmatize(text) #Lemmatizing the words\n",
    "#text = contractions.fix(text) # Expanding the contractions\n",
    "\n",
    "\n",
    "\n",
    "tokens = tokenizer.tokenize(text)\n",
    "freq = FreqDist(tokens)\n",
    "freq.plot(20)"
   ]
  },
  {
   "cell_type": "code",
   "execution_count": 36,
   "id": "3aaaa8e4",
   "metadata": {},
   "outputs": [
    {
     "data": {
      "image/png": "[encoded data removed]",
      "text/plain": [
       "<Figure size 432x288 with 1 Axes>"
      ]
     },
     "metadata": {
      "needs_background": "light"
     },
     "output_type": "display_data"
    }
   ],
   "source": [
    "# Create stopword list:\n",
    "stopwords = set(STOPWORDS)\n",
    "#stopwords.update([\"drink\", \"now\", \"wine\", \"flavor\", \"flavors\"])\n",
    "\n",
    "# Generate a word cloud image\n",
    "wordcloud = WordCloud(stopwords=stopwords, background_color=\"white\").generate(text)\n",
    "\n",
    "# Display the generated image:\n",
    "# the matplotlib way:\n",
    "plt.imshow(wordcloud, interpolation='bilinear')\n",
    "plt.axis(\"off\")\n",
    "plt.show()\n",
    "\n",
    "#### Create a world cloud with disneyland logo mask"
   ]
  },
  {
   "cell_type": "code",
   "execution_count": 37,
   "id": "95e02c4d",
   "metadata": {},
   "outputs": [],
   "source": [
    "castle_mask = np.array(Image.open(\"unnamed.png\"))"
   ]
  },
  {
   "cell_type": "code",
   "execution_count": 1,
   "id": "ec93fdc5",
   "metadata": {},
   "outputs": [
    {
     "ename": "NameError",
     "evalue": "name 'STOPWORDS' is not defined",
     "output_type": "error",
     "traceback": [
      "\u001b[0;31m---------------------------------------------------------------------------\u001b[0m",
      "\u001b[0;31mNameError\u001b[0m                                 Traceback (most recent call last)",
      "\u001b[0;32m<ipython-input-1-a56e7c2bf5f8>\u001b[0m in \u001b[0;36m<module>\u001b[0;34m\u001b[0m\n\u001b[0;32m----> 1\u001b[0;31m \u001b[0mstopwords\u001b[0m \u001b[0;34m=\u001b[0m \u001b[0mset\u001b[0m\u001b[0;34m(\u001b[0m\u001b[0mSTOPWORDS\u001b[0m\u001b[0;34m)\u001b[0m\u001b[0;34m\u001b[0m\u001b[0;34m\u001b[0m\u001b[0m\n\u001b[0m\u001b[1;32m      2\u001b[0m \u001b[0mstopwords\u001b[0m\u001b[0;34m.\u001b[0m\u001b[0mupdate\u001b[0m\u001b[0;34m(\u001b[0m\u001b[0;34m[\u001b[0m\u001b[0;34m\"disneyland\"\u001b[0m\u001b[0;34m,\u001b[0m \u001b[0;34m\"disney\"\u001b[0m\u001b[0;34m,\u001b[0m \u001b[0;34m\"park\"\u001b[0m\u001b[0;34m,\u001b[0m \u001b[0;34m\"u\"\u001b[0m\u001b[0;34m,\u001b[0m \u001b[0;34m\"ye\"\u001b[0m\u001b[0;34m,\u001b[0m \u001b[0;34m\"go\"\u001b[0m\u001b[0;34m,\u001b[0m \u001b[0;34m\"say\"\u001b[0m\u001b[0;34m,\u001b[0m \u001b[0;34m\"will\"\u001b[0m\u001b[0;34m,\u001b[0m \u001b[0;34m\"got\"\u001b[0m\u001b[0;34m,\u001b[0m \u001b[0;34m\"sure\"\u001b[0m\u001b[0;34m,\u001b[0m \u001b[0;34m\"s\"\u001b[0m\u001b[0;34m]\u001b[0m\u001b[0;34m)\u001b[0m\u001b[0;34m\u001b[0m\u001b[0;34m\u001b[0m\u001b[0m\n\u001b[1;32m      3\u001b[0m \u001b[0;31m# Generate a word cloud image\u001b[0m\u001b[0;34m\u001b[0m\u001b[0;34m\u001b[0m\u001b[0;34m\u001b[0m\u001b[0m\n\u001b[1;32m      4\u001b[0m wordcloud = WordCloud(stopwords=stopwords, \n\u001b[1;32m      5\u001b[0m                       \u001b[0mbackground_color\u001b[0m\u001b[0;34m=\u001b[0m\u001b[0;34m\"white\"\u001b[0m\u001b[0;34m,\u001b[0m\u001b[0;34m\u001b[0m\u001b[0;34m\u001b[0m\u001b[0m\n",
      "\u001b[0;31mNameError\u001b[0m: name 'STOPWORDS' is not defined"
     ]
    }
   ],
   "source": [
    "stopwords = set(STOPWORDS)\n",
    "stopwords.update([\"disneyland\", \"disney\", \"park\", \"u\", \"ye\", \"go\", \"say\", \"will\", \"got\", \"sure\", \"s\"])\n",
    "# Generate a word cloud image\n",
    "wordcloud = WordCloud(stopwords=stopwords, \n",
    "                      background_color=\"white\", \n",
    "                      mask = castle_mask, \n",
    "                      contour_width =0.5,\n",
    "                     contour_color = \"#679CF4\",\n",
    "                     font_path = \"arial\").generate(text)\n",
    "image_colors = ImageColorGenerator(castle_mask)\n",
    "wordcloud.recolor()\n",
    "# store to file\n",
    "#wordcloud.to_file(\"castle.png\")\n",
    "# show\n",
    "plt.figure(figsize=[20,20])\n",
    "plt.imshow(wordcloud, interpolation='bilinear')\n",
    "plt.axis(\"off\")\n",
    "plt.savefig(\"output\\disney_castle.jpg\", bbox_inches='tight', dpi = 300)\n",
    "plt.show()"
   ]
  },
  {
   "cell_type": "markdown",
   "id": "eb476860",
   "metadata": {},
   "source": [
    "# Text Preprocessing"
   ]
  },
  {
   "cell_type": "code",
   "execution_count": 51,
   "id": "cc015a8c",
   "metadata": {},
   "outputs": [],
   "source": [
    "#nlp = spacy.load('en_core_web_sm')"
   ]
  },
  {
   "cell_type": "code",
   "execution_count": 52,
   "id": "ececee46",
   "metadata": {},
   "outputs": [],
   "source": [
    "def strip_html_tags(text):\n",
    "    \"\"\"remove html tags from text\"\"\"\n",
    "    soup = BeautifulSoup(text, \"html.parser\")\n",
    "    stripped_text = soup.get_text(separator=\"\")\n",
    "    return stripped_text"
   ]
  },
  {
   "cell_type": "code",
   "execution_count": 53,
   "id": "af0a54b2",
   "metadata": {},
   "outputs": [],
   "source": [
    "def remov_stopwords(text):\n",
    "    stopwords = set(STOPWORDS)\n",
    "    text = text.replace(str(stopwords),\"\")\n",
    "    return text"
   ]
  },
  {
   "cell_type": "code",
   "execution_count": 54,
   "id": "232ad230",
   "metadata": {},
   "outputs": [],
   "source": [
    "def remove_whitespace(text):\n",
    "    \"\"\"remove extra whitespaces from text\"\"\"\n",
    "    text = text.strip()\n",
    "    return \" \".join(text.split())"
   ]
  },
  {
   "cell_type": "code",
   "execution_count": 55,
   "id": "2da56aa7",
   "metadata": {},
   "outputs": [],
   "source": [
    "def remove_accented_chars(text):\n",
    "    \"\"\"remove accented characters from text, e.g. café\"\"\"\n",
    "    text = unidecode.unidecode(text)\n",
    "    return text"
   ]
  },
  {
   "cell_type": "code",
   "execution_count": 56,
   "id": "4a8f51f6",
   "metadata": {},
   "outputs": [],
   "source": [
    "def expand_contractions(text):\n",
    "    \"\"\"expand shortened words, e.g. don't to do not\"\"\"\n",
    "    text = contractions.fix(text)\n",
    "    return text"
   ]
  },
  {
   "cell_type": "code",
   "execution_count": 57,
   "id": "16707a0d",
   "metadata": {},
   "outputs": [],
   "source": [
    "lemmatizer = WordNetLemmatizer()\n",
    "def lem (text):\n",
    "    text = lemmatizer.lemmatize(text)\n",
    "    return text"
   ]
  },
  {
   "cell_type": "code",
   "execution_count": 58,
   "id": "a7e679dd",
   "metadata": {},
   "outputs": [],
   "source": [
    "pattern = r'[0-9]'\n",
    "def remove_num(text):\n",
    "    text = re.sub(pattern, '', text)\n",
    "    return text"
   ]
  },
  {
   "cell_type": "code",
   "execution_count": 59,
   "id": "2505fd51",
   "metadata": {},
   "outputs": [],
   "source": [
    "def text_preprocessing(text):\n",
    "    \"\"\"preprocess text with default option set to true for all steps\"\"\"\n",
    "    text = remove_num(text)\n",
    "\n",
    "    text = strip_html_tags(text)\n",
    "    \n",
    "    text = remove_whitespace(text)\n",
    "    \n",
    "    text = remove_accented_chars(text)\n",
    "    \n",
    "    text = expand_contractions(text)\n",
    "    \n",
    "    text = lem(text)\n",
    "    \n",
    "    text = remov_stopwords(text)\n",
    "\n",
    "    text = text.lower()\n",
    "  \n",
    "    return text"
   ]
  },
  {
   "cell_type": "code",
   "execution_count": 60,
   "id": "0aee1599",
   "metadata": {},
   "outputs": [],
   "source": [
    "# subsetting the main dataframe to get only review text and sentiment columns\n",
    "df_main_class = df_main[[\"Review_text\",\"Sentiment\"]]"
   ]
  },
  {
   "cell_type": "code",
   "execution_count": 61,
   "id": "b69d85d4",
   "metadata": {},
   "outputs": [
    {
     "data": {
      "text/html": [
       "<div>\n",
       "<style scoped>\n",
       "    .dataframe tbody tr th:only-of-type {\n",
       "        vertical-align: middle;\n",
       "    }\n",
       "\n",
       "    .dataframe tbody tr th {\n",
       "        vertical-align: top;\n",
       "    }\n",
       "\n",
       "    .dataframe thead th {\n",
       "        text-align: right;\n",
       "    }\n",
       "</style>\n",
       "<table border=\"1\" class=\"dataframe\">\n",
       "  <thead>\n",
       "    <tr style=\"text-align: right;\">\n",
       "      <th></th>\n",
       "      <th>Review_text</th>\n",
       "      <th>Sentiment</th>\n",
       "    </tr>\n",
       "  </thead>\n",
       "  <tbody>\n",
       "    <tr>\n",
       "      <th>0</th>\n",
       "      <td>If you've ever been to Disneyland anywhere you'll find Disneyland Hong Kong very similar in the layout when you walk into main street! It has a very familiar feel. One of the rides  its a Small World  is absolutely fabulous and worth doing. The day we visited was fairly hot and relatively busy but the queues moved fairly well.</td>\n",
       "      <td>Positive</td>\n",
       "    </tr>\n",
       "    <tr>\n",
       "      <th>1</th>\n",
       "      <td>Its been a while since d last time we visit HK Disneyland .. Yet, this time we only stay in Tomorrowland .. AKA Marvel land!Now they have Iron Man Experience n d Newly open Ant Man n d Wasp!!Ironman .. Great feature n so Exciting, especially d whole scenery of HK (HK central area to Kowloon)!Antman .. Changed by previous Buzz lightyear! More or less d same, but I'm expecting to have something most!!However, my boys like it!!Space Mountain .. Turns into Star Wars!! This 1 is Great!!!For cast members (staffs) .. Felt bit MINUS point from before!!! Just dun feel like its a Disney brand!! Seem...</td>\n",
       "      <td>Positive</td>\n",
       "    </tr>\n",
       "    <tr>\n",
       "      <th>2</th>\n",
       "      <td>Thanks God it wasn   t too hot or too humid when I was visiting the park   otherwise it would be a big issue (there is not a lot of shade).I have arrived around 10:30am and left at 6pm. Unfortunately I didn   t last until evening parade, but 8.5 hours was too much for me.There is plenty to do and everyone will find something interesting for themselves to enjoy.It wasn   t extremely busy and the longest time I had to queue for certain attractions was 45 minutes (which is really not that bad).Although I had an amazing time, I felt a bit underwhelmed with choice of rides and attractions. The ...</td>\n",
       "      <td>Positive</td>\n",
       "    </tr>\n",
       "    <tr>\n",
       "      <th>3</th>\n",
       "      <td>HK Disneyland is a great compact park. Unfortunately there is quite a bit of maintenance work going on at present so a number of areas are closed off (including the famous castle) If you go midweek, it is not too crowded and certainly no where near as bus as LA Disneyland. We did notice on this visit that prices for food, drinks etc have really gone through the roof so be prepared to pay top dollar for snacks (and avoid the souvenir shops if you can) Regardless, kids will love it.</td>\n",
       "      <td>Positive</td>\n",
       "    </tr>\n",
       "    <tr>\n",
       "      <th>4</th>\n",
       "      <td>the location is not in the city, took around 1 hour from Kowlon, my kids like disneyland so much, everything is fine.   but its really crowded and hot in Hong Kong</td>\n",
       "      <td>Positive</td>\n",
       "    </tr>\n",
       "    <tr>\n",
       "      <th>...</th>\n",
       "      <td>...</td>\n",
       "      <td>...</td>\n",
       "    </tr>\n",
       "    <tr>\n",
       "      <th>42639</th>\n",
       "      <td>I have taken my music groups to Disneyland for a number of years to participate in Disney Magic Music Days. From Start to finish it has been a totally professional experience! If you are thinking about this program, stop thinking, and do it!Lines and waiting in line is part of the experience. Take time to meet new people, and enjoy your experience without being in a big hurry. A little planning will help in cutting down the wait time. Avoid the busiest times   Christmas, Spring Break, etc. Our last family trip was in mid July, and our longest wait in line was 15 min. at Small World, of all...</td>\n",
       "      <td>Positive</td>\n",
       "    </tr>\n",
       "    <tr>\n",
       "      <th>42640</th>\n",
       "      <td>This is definitely the Happiest Place on Earth! No long drives to get to these parks! The rides are better, too! Also, get fastpasses! The lines can get really long.</td>\n",
       "      <td>Positive</td>\n",
       "    </tr>\n",
       "    <tr>\n",
       "      <th>42641</th>\n",
       "      <td>never again...what a horrible experience, the worst weekend of my life. We went to Disneyland fully understanding that it would be crowded, there would be lines and lots &amp; lots of people..however, there were so many people that you could literally not walk, You had to wait in line to move! Waits for rides were 3 1 2 4 hrs long, waits just to get a speed pass were over 1 hr long. Although we all remained in good spirits and tried to enjoy it, it was impossible. You couldn't even take a picture of each other, it was too crowded. After only 3 hours on our second day there, my nieces asked to ...</td>\n",
       "      <td>Negative</td>\n",
       "    </tr>\n",
       "    <tr>\n",
       "      <th>42642</th>\n",
       "      <td>We take a long weekend trip to California each January and always start our vacation at Disneyland. Wonderful, fun, safe and makes you forget just for a little while that all is not perfect in the world.</td>\n",
       "      <td>Positive</td>\n",
       "    </tr>\n",
       "    <tr>\n",
       "      <th>42643</th>\n",
       "      <td>Disnyeland has to be the BEST place to take a family for a wonderful vacation or just a day of fun! It is safe, clean &amp; takes you back to a simpler time. I have visited Disneyland at least 50 times &amp; never tire of it or the magic it gives to everyone. When you step onto Main Street you see what Walt saw evertime he was there. Look up over the Fire House &amp; that was Walt's apartment for when he stayed at the park. There is a light on in the window which meant that Walt was in the park, when he was alive. That light is left on all the time now to remind the cast members &amp; visitors that Walt w...</td>\n",
       "      <td>Positive</td>\n",
       "    </tr>\n",
       "  </tbody>\n",
       "</table>\n",
       "<p>42644 rows × 2 columns</p>\n",
       "</div>"
      ],
      "text/plain": [
       "                                                                                                                                                                                                                                                                                                                                                                                                                                                                                                                                                                                                                   Review_text  \\\n",
       "0                                                                                                                                                                                                                                                                                    If you've ever been to Disneyland anywhere you'll find Disneyland Hong Kong very similar in the layout when you walk into main street! It has a very familiar feel. One of the rides  its a Small World  is absolutely fabulous and worth doing. The day we visited was fairly hot and relatively busy but the queues moved fairly well.    \n",
       "1      Its been a while since d last time we visit HK Disneyland .. Yet, this time we only stay in Tomorrowland .. AKA Marvel land!Now they have Iron Man Experience n d Newly open Ant Man n d Wasp!!Ironman .. Great feature n so Exciting, especially d whole scenery of HK (HK central area to Kowloon)!Antman .. Changed by previous Buzz lightyear! More or less d same, but I'm expecting to have something most!!However, my boys like it!!Space Mountain .. Turns into Star Wars!! This 1 is Great!!!For cast members (staffs) .. Felt bit MINUS point from before!!! Just dun feel like its a Disney brand!! Seem...   \n",
       "2      Thanks God it wasn   t too hot or too humid when I was visiting the park   otherwise it would be a big issue (there is not a lot of shade).I have arrived around 10:30am and left at 6pm. Unfortunately I didn   t last until evening parade, but 8.5 hours was too much for me.There is plenty to do and everyone will find something interesting for themselves to enjoy.It wasn   t extremely busy and the longest time I had to queue for certain attractions was 45 minutes (which is really not that bad).Although I had an amazing time, I felt a bit underwhelmed with choice of rides and attractions. The ...   \n",
       "3                                                                                                                        HK Disneyland is a great compact park. Unfortunately there is quite a bit of maintenance work going on at present so a number of areas are closed off (including the famous castle) If you go midweek, it is not too crowded and certainly no where near as bus as LA Disneyland. We did notice on this visit that prices for food, drinks etc have really gone through the roof so be prepared to pay top dollar for snacks (and avoid the souvenir shops if you can) Regardless, kids will love it.   \n",
       "4                                                                                                                                                                                                                                                                                                                                                                                                                                                          the location is not in the city, took around 1 hour from Kowlon, my kids like disneyland so much, everything is fine.   but its really crowded and hot in Hong Kong   \n",
       "...                                                                                                                                                                                                                                                                                                                                                                                                                                                                                                                                                                                                                        ...   \n",
       "42639  I have taken my music groups to Disneyland for a number of years to participate in Disney Magic Music Days. From Start to finish it has been a totally professional experience! If you are thinking about this program, stop thinking, and do it!Lines and waiting in line is part of the experience. Take time to meet new people, and enjoy your experience without being in a big hurry. A little planning will help in cutting down the wait time. Avoid the busiest times   Christmas, Spring Break, etc. Our last family trip was in mid July, and our longest wait in line was 15 min. at Small World, of all...   \n",
       "42640                                                                                                                                                                                                                                                                                                                                                                                                                                                    This is definitely the Happiest Place on Earth! No long drives to get to these parks! The rides are better, too! Also, get fastpasses! The lines can get really long.   \n",
       "42641  never again...what a horrible experience, the worst weekend of my life. We went to Disneyland fully understanding that it would be crowded, there would be lines and lots & lots of people..however, there were so many people that you could literally not walk, You had to wait in line to move! Waits for rides were 3 1 2 4 hrs long, waits just to get a speed pass were over 1 hr long. Although we all remained in good spirits and tried to enjoy it, it was impossible. You couldn't even take a picture of each other, it was too crowded. After only 3 hours on our second day there, my nieces asked to ...   \n",
       "42642                                                                                                                                                                                                                                                                                                                                                                                                              We take a long weekend trip to California each January and always start our vacation at Disneyland. Wonderful, fun, safe and makes you forget just for a little while that all is not perfect in the world.   \n",
       "42643  Disnyeland has to be the BEST place to take a family for a wonderful vacation or just a day of fun! It is safe, clean & takes you back to a simpler time. I have visited Disneyland at least 50 times & never tire of it or the magic it gives to everyone. When you step onto Main Street you see what Walt saw evertime he was there. Look up over the Fire House & that was Walt's apartment for when he stayed at the park. There is a light on in the window which meant that Walt was in the park, when he was alive. That light is left on all the time now to remind the cast members & visitors that Walt w...   \n",
       "\n",
       "      Sentiment  \n",
       "0      Positive  \n",
       "1      Positive  \n",
       "2      Positive  \n",
       "3      Positive  \n",
       "4      Positive  \n",
       "...         ...  \n",
       "42639  Positive  \n",
       "42640  Positive  \n",
       "42641  Negative  \n",
       "42642  Positive  \n",
       "42643  Positive  \n",
       "\n",
       "[42644 rows x 2 columns]"
      ]
     },
     "execution_count": 61,
     "metadata": {},
     "output_type": "execute_result"
    }
   ],
   "source": [
    "# Before the text processing\n",
    "df_main_class"
   ]
  },
  {
   "cell_type": "code",
   "execution_count": 62,
   "id": "25dccba0",
   "metadata": {},
   "outputs": [
    {
     "name": "stderr",
     "output_type": "stream",
     "text": [
      "<ipython-input-62-6d8ad1592dc7>:2: SettingWithCopyWarning: \n",
      "A value is trying to be set on a copy of a slice from a DataFrame.\n",
      "Try using .loc[row_indexer,col_indexer] = value instead\n",
      "\n",
      "See the caveats in the documentation: https://pandas.pydata.org/pandas-docs/stable/user_guide/indexing.html#returning-a-view-versus-a-copy\n",
      "  df_main_class[\"Review_text\"]= df_main_class[\"Review_text\"].apply(lambda x: text_preprocessing(x))\n"
     ]
    }
   ],
   "source": [
    "#Apply the text processing to all of the values in Review_text column\n",
    "df_main_class[\"Review_text\"]= df_main_class[\"Review_text\"].apply(lambda x: text_preprocessing(x))"
   ]
  },
  {
   "cell_type": "code",
   "execution_count": 63,
   "id": "1f6d0972",
   "metadata": {},
   "outputs": [
    {
     "data": {
      "text/html": [
       "<div>\n",
       "<style scoped>\n",
       "    .dataframe tbody tr th:only-of-type {\n",
       "        vertical-align: middle;\n",
       "    }\n",
       "\n",
       "    .dataframe tbody tr th {\n",
       "        vertical-align: top;\n",
       "    }\n",
       "\n",
       "    .dataframe thead th {\n",
       "        text-align: right;\n",
       "    }\n",
       "</style>\n",
       "<table border=\"1\" class=\"dataframe\">\n",
       "  <thead>\n",
       "    <tr style=\"text-align: right;\">\n",
       "      <th></th>\n",
       "      <th>Review_text</th>\n",
       "      <th>Sentiment</th>\n",
       "    </tr>\n",
       "  </thead>\n",
       "  <tbody>\n",
       "    <tr>\n",
       "      <th>0</th>\n",
       "      <td>if you have ever been to disneyland anywhere you will find disneyland hong kong very similar in the layout when you walk into main street! it has a very familiar feel. one of the rides its a small world is absolutely fabulous and worth doing. the day we visited was fairly hot and relatively busy but the queues moved fairly well.</td>\n",
       "      <td>Positive</td>\n",
       "    </tr>\n",
       "    <tr>\n",
       "      <th>1</th>\n",
       "      <td>its been a while since d last time we visit hk disneyland .. yet, this time we only stay in tomorrowland .. aka marvel land!now they have iron man experience n d newly open ant man n d wasp!!ironman .. great feature n so exciting, especially d whole scenery of hk (hk central area to kowloon)!antman .. changed by previous buzz lightyear! more or less d same, but i am expecting to have something most!!however, my boys like it!!space mountain .. turns into star wars!! this is great!!!for cast members (staffs) .. felt bit minus point from before!!! just dun feel like its a disney brand!! seems...</td>\n",
       "      <td>Positive</td>\n",
       "    </tr>\n",
       "    <tr>\n",
       "      <th>2</th>\n",
       "      <td>thanks god it wasn t too hot or too humid when i was visiting the park otherwise it would be a big issue (there is not a lot of shade).i have arrived around :am and left at pm. unfortunately i didn t last until evening parade, but . hours was too much for me.there is plenty to do and everyone will find something interesting for themselves to enjoy.it wasn t extremely busy and the longest time i had to queue for certain attractions was minutes (which is really not that bad).although i had an amazing time, i felt a bit underwhelmed with choice of rides and attractions. the park itself is qui...</td>\n",
       "      <td>Positive</td>\n",
       "    </tr>\n",
       "    <tr>\n",
       "      <th>3</th>\n",
       "      <td>hk disneyland is a great compact park. unfortunately there is quite a bit of maintenance work going on at present so a number of areas are closed off (including the famous castle) if you go midweek, it is not too crowded and certainly no where near as bus as la disneyland. we did notice on this visit that prices for food, drinks etc have really gone through the roof so be prepared to pay top dollar for snacks (and avoid the souvenir shops if you can) regardless, kids will love it.</td>\n",
       "      <td>Positive</td>\n",
       "    </tr>\n",
       "    <tr>\n",
       "      <th>4</th>\n",
       "      <td>the location is not in the city, took around hour from kowlon, my kids like disneyland so much, everything is fine. but its really crowded and hot in hong kong</td>\n",
       "      <td>Positive</td>\n",
       "    </tr>\n",
       "  </tbody>\n",
       "</table>\n",
       "</div>"
      ],
      "text/plain": [
       "                                                                                                                                                                                                                                                                                                                                                                                                                                                                                                                                                                                                               Review_text  \\\n",
       "0                                                                                                                                                                                                                                                                               if you have ever been to disneyland anywhere you will find disneyland hong kong very similar in the layout when you walk into main street! it has a very familiar feel. one of the rides its a small world is absolutely fabulous and worth doing. the day we visited was fairly hot and relatively busy but the queues moved fairly well.   \n",
       "1  its been a while since d last time we visit hk disneyland .. yet, this time we only stay in tomorrowland .. aka marvel land!now they have iron man experience n d newly open ant man n d wasp!!ironman .. great feature n so exciting, especially d whole scenery of hk (hk central area to kowloon)!antman .. changed by previous buzz lightyear! more or less d same, but i am expecting to have something most!!however, my boys like it!!space mountain .. turns into star wars!! this is great!!!for cast members (staffs) .. felt bit minus point from before!!! just dun feel like its a disney brand!! seems...   \n",
       "2  thanks god it wasn t too hot or too humid when i was visiting the park otherwise it would be a big issue (there is not a lot of shade).i have arrived around :am and left at pm. unfortunately i didn t last until evening parade, but . hours was too much for me.there is plenty to do and everyone will find something interesting for themselves to enjoy.it wasn t extremely busy and the longest time i had to queue for certain attractions was minutes (which is really not that bad).although i had an amazing time, i felt a bit underwhelmed with choice of rides and attractions. the park itself is qui...   \n",
       "3                                                                                                                    hk disneyland is a great compact park. unfortunately there is quite a bit of maintenance work going on at present so a number of areas are closed off (including the famous castle) if you go midweek, it is not too crowded and certainly no where near as bus as la disneyland. we did notice on this visit that prices for food, drinks etc have really gone through the roof so be prepared to pay top dollar for snacks (and avoid the souvenir shops if you can) regardless, kids will love it.   \n",
       "4                                                                                                                                                                                                                                                                                                                                                                                                                                                          the location is not in the city, took around hour from kowlon, my kids like disneyland so much, everything is fine. but its really crowded and hot in hong kong   \n",
       "\n",
       "  Sentiment  \n",
       "0  Positive  \n",
       "1  Positive  \n",
       "2  Positive  \n",
       "3  Positive  \n",
       "4  Positive  "
      ]
     },
     "execution_count": 63,
     "metadata": {},
     "output_type": "execute_result"
    }
   ],
   "source": [
    "# After the text processing: checking the data\n",
    "df_main_class.head()"
   ]
  },
  {
   "cell_type": "code",
   "execution_count": 64,
   "id": "9c1cc2d6",
   "metadata": {},
   "outputs": [],
   "source": [
    "# Subsetting the independenrt variables and dependent variables\n",
    "X = df_main_class[\"Review_text\"]\n",
    "Y = df_main_class[\"Sentiment\"]"
   ]
  },
  {
   "cell_type": "code",
   "execution_count": 131,
   "id": "0ecfcb2e",
   "metadata": {},
   "outputs": [
    {
     "data": {
      "text/plain": [
       "12263                                                    the disneyland park is as magical and excitimg as it promises to be. everything so well planned out and the attention to detail is amazing. we spent a whole day walking between the parks. due to the queues, could not go on many rides but we managed to catch the princesses show and the royal parade in the evening. the highlight was the fireworks display held at the end of the day at closing time. please do not miss this as it is one of the best i have ever seen! i felt like a kid all over again :) the experience justifies the price of the ticket.\n",
       "37869                                                                                                                                                                                                                                                                                     disneyland park has never lost its magic for me! i have been coming here for many years. it is all about the total experience: the music, the lights, the shopping, the characters, and the attractions. the food is fairly overpriced now, but there are lots of types to choose from. it is truly an experience worth saving up for!\n",
       "40768                                                                                                                                                                                                                                                                                                                                                                                                      everything about disneyland is amazing!! the sights, the sounds, the smells, the whole experience is incredible. even though it can get really crowded, there are so many details everywhere to keep you entertained.\n",
       "10656    we stayed in torcy, stations away is disneyland park. we took day ticket, one day park and another day studio. better to book on line to escape long q. must mark all the rides before and finish the rides first as waiting in q itself may be hour or more and if time permits to see other attractions. when you go for a ride if q is long, there are fast pass machines nearby, but hiding, scan your ticket you will get ride timing few hours away. according to that time you can come so that fast pass holder q are short. however, only one fast pass booking can be done at a time. july was very hot, b...\n",
       "32550                                                                                                                                                                                                                                                                                                                                                                       i have been to disneyland many times. it is by far my favorite place for family and romance. it is very big and you need to do research. if you know how to use the free fast pass and use everything the park has to offer it is worth the $$$$$$$.\n",
       "                                                                                                                                                                                                                                                                                                                  ...                                                                                                                                                                                                                                                                                                           \n",
       "37578                                                                                                                                                                                                                                                                                                                                                                                                                                                                                                        we had a wonderful time and felt like kids. lots of memories were made at disneyland. they have rides for all ages.\n",
       "2756              i just love the place ! it is a small place compare to the one in japan or us but that what i love about it. this place tough suitable mostly for kids anyway adults can also enjoy some excitments. i love the theathers, parks, small ridings as well as water cruising. tarzan tree house is good, it provide views from the top over the rivers and parks. grizzly mine was exciting and thrill (at least for me). your kids probably will looove the toy story sections. simba theather performance is truly not too miss. overall, i enjoy my moments here, excitement without being overly exhousted :)\n",
       "40929                                                                                                                                                         disneyland has it own magic. once i stepped through the underpass and into the paark propper, i was years old again.everything is clean, the staff are friendly and deserve your respect. prices for food are amusment park prices, so you might want to pack something if you are going to be their all day.if you have little kids, take a break during the day so that they can have a nap and you can rest up for the nightly fireworks.i will go there again!\n",
       "33819                                                                                                                                                                                                                                                   magical place. just go! you can have a wonderful time without spending a minute in line for an attraction. watch the flag ceremony. take a ride in a double decker bus down main street. get a ice cream cone, sit, and watch the world parade by. see a parade. watch the delight on a child's face when they meet a princess. watch fantasmic! this is the best place.\n",
       "18388                                                                                                             what a magical place this is! there is something for all ages. some of the queues were quite long at times but even while you are queuing there are things to look at and watch so you do not really notice! the castle is beautiful and you must visit the fire breathing dragon underneath! the parades are a must see, also the firework displays at night.we enjoyed all the rides we went on but do not bother with the train that circles the park; completely boring and pointless and a waste of time.\n",
       "Name: Review_text, Length: 34115, dtype: object"
      ]
     },
     "execution_count": 131,
     "metadata": {},
     "output_type": "execute_result"
    }
   ],
   "source": [
    "# Splitting the data into train and test data\n",
    "X_train , X_test , Y_train , Y_test = train_test_split(X,Y, test_size = 0.2)\n",
    "X_train"
   ]
  },
  {
   "cell_type": "code",
   "execution_count": 66,
   "id": "bd213b0c",
   "metadata": {},
   "outputs": [],
   "source": [
    "# Bag of words vectorizer\n",
    "vectorizer = CountVectorizer()"
   ]
  },
  {
   "cell_type": "code",
   "execution_count": 67,
   "id": "594f4709",
   "metadata": {},
   "outputs": [],
   "source": [
    "# Defining a classification function which gets a vectorizer and a model as an input and provides the F1-\n",
    "# score for the test and train datasets.\n",
    "def classification(vectorizer, model, fit_vect =True):\n",
    "    if fit_vect:\n",
    "        vectorizer.fit(X_train)\n",
    "    train_vec = vectorizer.transform(X_train)\n",
    "    test.vec = vectorizer.transform(X_test)\n",
    "    model.fit(train_vec, Y_train)\n",
    "    train_preds = model.predict(train_vec)\n",
    "    train_f1 = f1_score(Y_train, train_preds, average='micro')\n",
    "    test_preds = model.predict(test.vec)\n",
    "    test_f1 = f1_score(Y_test, test_preds, average='micro')\n",
    "    return train_f1, test_f1  \n",
    "    \n",
    "    \n",
    "    "
   ]
  },
  {
   "cell_type": "code",
   "execution_count": 68,
   "id": "eccd3797",
   "metadata": {},
   "outputs": [],
   "source": [
    "# initiating the Naive Bayes Model\n",
    "NB = MultinomialNB()"
   ]
  },
  {
   "cell_type": "code",
   "execution_count": 69,
   "id": "7fe20787",
   "metadata": {},
   "outputs": [
    {
     "data": {
      "text/plain": [
       "(0.8769456250916019, 0.8330402157345527)"
      ]
     },
     "execution_count": 69,
     "metadata": {},
     "output_type": "execute_result"
    }
   ],
   "source": [
    "classification(vectorizer,NB,fit_vect = True)"
   ]
  },
  {
   "cell_type": "code",
   "execution_count": 70,
   "id": "d0fa879b",
   "metadata": {},
   "outputs": [
    {
     "name": "stdout",
     "output_type": "stream",
     "text": [
      "0.1 => (0.8769456250916019, 0.8330402157345527)\n",
      "0.15000000000000002 => (0.8769456250916019, 0.8330402157345527)\n",
      "0.20000000000000004 => (0.8769456250916019, 0.8330402157345527)\n",
      "0.25000000000000006 => (0.8769456250916019, 0.8330402157345527)\n",
      "0.30000000000000004 => (0.8769456250916019, 0.8330402157345527)\n",
      "0.3500000000000001 => (0.8769456250916019, 0.8330402157345527)\n",
      "0.40000000000000013 => (0.8769456250916019, 0.8330402157345527)\n",
      "0.45000000000000007 => (0.8769456250916019, 0.8330402157345527)\n",
      "0.5000000000000001 => (0.8769456250916019, 0.8330402157345527)\n",
      "0.5500000000000002 => (0.8769456250916019, 0.8330402157345527)\n",
      "0.6000000000000002 => (0.8769456250916019, 0.8330402157345527)\n",
      "0.6500000000000001 => (0.8769456250916019, 0.8330402157345527)\n",
      "0.7000000000000002 => (0.8769456250916019, 0.8330402157345527)\n",
      "0.7500000000000002 => (0.8769456250916019, 0.8330402157345527)\n",
      "0.8000000000000002 => (0.8769456250916019, 0.8330402157345527)\n",
      "0.8500000000000002 => (0.8769456250916019, 0.8330402157345527)\n",
      "0.9000000000000002 => (0.8769456250916019, 0.8330402157345527)\n",
      "0.9500000000000003 => (0.8769456250916019, 0.8330402157345527)\n",
      "1.0000000000000004 => (0.8769456250916019, 0.8330402157345527)\n"
     ]
    },
    {
     "data": {
      "image/png": "[encoded data removed]",
      "text/plain": [
       "<Figure size 432x288 with 1 Axes>"
      ]
     },
     "metadata": {
      "needs_background": "light"
     },
     "output_type": "display_data"
    }
   ],
   "source": [
    "arange = np.arange(0.1, 1.01, 0.05)\n",
    "results = []\n",
    "for a in arange:\n",
    "  model = MultinomialNB(alpha=a)\n",
    "  res = classification(vectorizer,NB)\n",
    "  results.append(res)\n",
    "  print(a, '=>', res)\n",
    "  \n",
    "plt.plot(arange, results)\n",
    "plt.legend([\"Train\", \"Test\"])\n",
    "plt.show()"
   ]
  },
  {
   "cell_type": "code",
   "execution_count": 71,
   "id": "c2537fe5",
   "metadata": {},
   "outputs": [
    {
     "name": "stdout",
     "output_type": "stream",
     "text": [
      "unigram => (0.7963359226146857, 0.7920037519052643)\n",
      "bigram => (0.7960721090429429, 0.7917692578262399)\n",
      "trigram => (0.7960721090429429, 0.7917692578262399)\n",
      "combined => (0.7960721090429429, 0.7917692578262399)\n"
     ]
    },
    {
     "data": {
      "image/png": "[encoded data removed]",
      "text/plain": [
       "<Figure size 432x288 with 1 Axes>"
      ]
     },
     "metadata": {
      "needs_background": "light"
     },
     "output_type": "display_data"
    }
   ],
   "source": [
    "# different ngrams with a fixed alpha for Naive Bayes\n",
    "tfidf_bigram = TfidfVectorizer(ngram_range=(2,2))\n",
    "tfidf_trigram = TfidfVectorizer(ngram_range=(3,3))\n",
    "tfidf_combined = TfidfVectorizer(ngram_range=(1,3))\n",
    "tfidf = TfidfVectorizer()\n",
    "tfidf_vectorizers = [tfidf, tfidf_bigram, tfidf_trigram, tfidf_combined]\n",
    "vectorizer_names = ['unigram', 'bigram', 'trigram', 'combined']\n",
    "xs = list(range(len(tfidf_vectorizers)))\n",
    "results = []\n",
    "for i in range(len(tfidf_vectorizers)):\n",
    "  model = MultinomialNB(alpha=1.0)\n",
    "  res = classification(tfidf_vectorizers[i], model)\n",
    "  results.append(res)\n",
    "  print(vectorizer_names[i], '=>', res)\n",
    "  \n",
    "plt.plot(xs, results)\n",
    "plt.xticks(xs, vectorizer_names)\n",
    "plt.legend([\"Train\", \"Test\"])\n",
    "plt.show()"
   ]
  },
  {
   "cell_type": "code",
   "execution_count": 72,
   "id": "29005f76",
   "metadata": {},
   "outputs": [],
   "source": [
    "lr = LogisticRegression(max_iter =300, solver = \"liblinear\")"
   ]
  },
  {
   "cell_type": "code",
   "execution_count": 73,
   "id": "a12707da",
   "metadata": {},
   "outputs": [
    {
     "data": {
      "text/plain": [
       "(0.95139967756119, 0.8362058858013837)"
      ]
     },
     "execution_count": 73,
     "metadata": {},
     "output_type": "execute_result"
    }
   ],
   "source": [
    "# Logisitc Reg with Count Vectorizer as the vecotrizer\n",
    "classification(vectorizer,lr,fit_vect = True)"
   ]
  },
  {
   "cell_type": "code",
   "execution_count": 74,
   "id": "426ad04d",
   "metadata": {},
   "outputs": [],
   "source": [
    "tfidf = TfidfVectorizer()\n",
    "tfidf_bigram = TfidfVectorizer(ngram_range=(2,2))\n",
    "tfidf_trigram = TfidfVectorizer(ngram_range=(3,3))\n",
    "tfidf_combined = TfidfVectorizer(ngram_range=(1,3))\n",
    "tfidf_vectorizers = [tfidf, tfidf_bigram, tfidf_trigram, tfidf_combined]"
   ]
  },
  {
   "cell_type": "code",
   "execution_count": 75,
   "id": "385eedfe",
   "metadata": {},
   "outputs": [
    {
     "data": {
      "text/plain": [
       "(0.870408911036201, 0.8438269433696799)"
      ]
     },
     "execution_count": 75,
     "metadata": {},
     "output_type": "execute_result"
    }
   ],
   "source": [
    "# Logisitc Reg with tfidf vectorizer the vecotrizer\n",
    "classification(tfidf,lr,fit_vect = True)"
   ]
  },
  {
   "cell_type": "code",
   "execution_count": 76,
   "id": "e6c76375",
   "metadata": {},
   "outputs": [
    {
     "name": "stdout",
     "output_type": "stream",
     "text": [
      "unigram => (0.870408911036201, 0.8438269433696799)\n",
      "bigram => (0.8550197860178806, 0.821081017704303)\n",
      "trigram => (0.798915433093947, 0.7937624574979482)\n",
      "combined => (0.8626996922174996, 0.8328057216555282)\n"
     ]
    },
    {
     "data": {
      "image/png": "[encoded data removed]",
      "text/plain": [
       "<Figure size 432x288 with 1 Axes>"
      ]
     },
     "metadata": {
      "needs_background": "light"
     },
     "output_type": "display_data"
    }
   ],
   "source": [
    "# different ngrams with a fixed solver for logistic regression\n",
    "vectorizer_names = ['unigram', 'bigram', 'trigram', 'combined']\n",
    "xs = list(range(len(vectorizer_names)))\n",
    "results = []\n",
    "for i in range(len(tfidf_vectorizers)):\n",
    "  model = LogisticRegression(solver = \"liblinear\")\n",
    "  res = classification(tfidf_vectorizers[i], model)\n",
    "  results.append(res)\n",
    "  print(vectorizer_names[i], '=>', res)\n",
    "  \n",
    "plt.plot(xs, results)\n",
    "plt.xticks(xs, vectorizer_names)\n",
    "plt.legend([\"Train\", \"Test\"])\n",
    "plt.show()"
   ]
  },
  {
   "cell_type": "code",
   "execution_count": 77,
   "id": "0b4c3d5c",
   "metadata": {},
   "outputs": [],
   "source": [
    "# Random Forest\n",
    "rf = RandomForestClassifier()"
   ]
  },
  {
   "cell_type": "code",
   "execution_count": 78,
   "id": "c45390ba",
   "metadata": {},
   "outputs": [
    {
     "data": {
      "text/plain": [
       "(0.9999706873809174, 0.7934107163794114)"
      ]
     },
     "execution_count": 78,
     "metadata": {},
     "output_type": "execute_result"
    }
   ],
   "source": [
    "# rf with count vectorizer \n",
    "classification(vectorizer,rf,fit_vect = True)"
   ]
  },
  {
   "cell_type": "code",
   "execution_count": 79,
   "id": "9e87b5f1",
   "metadata": {},
   "outputs": [
    {
     "data": {
      "text/plain": [
       "(0.9999706873809174, 0.7925899871028256)"
      ]
     },
     "execution_count": 79,
     "metadata": {},
     "output_type": "execute_result"
    }
   ],
   "source": [
    "# rf with tfidf vectorizer \n",
    "classification(tfidf,rf,fit_vect = True)"
   ]
  },
  {
   "cell_type": "code",
   "execution_count": 81,
   "id": "68fc9056",
   "metadata": {},
   "outputs": [
    {
     "name": "stdout",
     "output_type": "stream",
     "text": [
      "unigram => (1.0, 0.7927072341423379)\n",
      "bigram => (0.999941374761835, 0.7921209989447765)\n",
      "trigram => (1.0, 0.793645210458436)\n",
      "combined => (0.9999706873809174, 0.7920037519052643)\n"
     ]
    },
    {
     "data": {
      "image/png": "[encoded data removed]",
      "text/plain": [
       "<Figure size 432x288 with 1 Axes>"
      ]
     },
     "metadata": {
      "needs_background": "light"
     },
     "output_type": "display_data"
    }
   ],
   "source": [
    "# different ngrams with a fixed solver for logistic regression\n",
    "vectorizer_names = ['unigram', 'bigram', 'trigram', 'combined']\n",
    "xs = list(range(len(vectorizer_names)))\n",
    "results = []\n",
    "for i in range(len(tfidf_vectorizers)):\n",
    "  model = RandomForestClassifier()\n",
    "  res = classification(tfidf_vectorizers[i], model)\n",
    "  results.append(res)\n",
    "  print(vectorizer_names[i], '=>', res)\n",
    "  \n",
    "plt.plot(xs, results)\n",
    "plt.xticks(xs, vectorizer_names)\n",
    "plt.legend([\"Train\", \"Test\"])\n",
    "plt.show()"
   ]
  },
  {
   "cell_type": "code",
   "execution_count": 82,
   "id": "93e786fe",
   "metadata": {},
   "outputs": [
    {
     "data": {
      "text/html": [
       "<div>\n",
       "<style scoped>\n",
       "    .dataframe tbody tr th:only-of-type {\n",
       "        vertical-align: middle;\n",
       "    }\n",
       "\n",
       "    .dataframe tbody tr th {\n",
       "        vertical-align: top;\n",
       "    }\n",
       "\n",
       "    .dataframe thead th {\n",
       "        text-align: right;\n",
       "    }\n",
       "</style>\n",
       "<table border=\"1\" class=\"dataframe\">\n",
       "  <thead>\n",
       "    <tr style=\"text-align: right;\">\n",
       "      <th></th>\n",
       "      <th>Review_text</th>\n",
       "      <th>Sentiment</th>\n",
       "    </tr>\n",
       "  </thead>\n",
       "  <tbody>\n",
       "    <tr>\n",
       "      <th>0</th>\n",
       "      <td>if you have ever been to disneyland anywhere you will find disneyland hong kong very similar in the layout when you walk into main street! it has a very familiar feel. one of the rides its a small world is absolutely fabulous and worth doing. the day we visited was fairly hot and relatively busy but the queues moved fairly well.</td>\n",
       "      <td>Positive</td>\n",
       "    </tr>\n",
       "    <tr>\n",
       "      <th>1</th>\n",
       "      <td>its been a while since d last time we visit hk disneyland .. yet, this time we only stay in tomorrowland .. aka marvel land!now they have iron man experience n d newly open ant man n d wasp!!ironman .. great feature n so exciting, especially d whole scenery of hk (hk central area to kowloon)!antman .. changed by previous buzz lightyear! more or less d same, but i am expecting to have something most!!however, my boys like it!!space mountain .. turns into star wars!! this is great!!!for cast members (staffs) .. felt bit minus point from before!!! just dun feel like its a disney brand!! seems...</td>\n",
       "      <td>Positive</td>\n",
       "    </tr>\n",
       "    <tr>\n",
       "      <th>2</th>\n",
       "      <td>thanks god it wasn t too hot or too humid when i was visiting the park otherwise it would be a big issue (there is not a lot of shade).i have arrived around :am and left at pm. unfortunately i didn t last until evening parade, but . hours was too much for me.there is plenty to do and everyone will find something interesting for themselves to enjoy.it wasn t extremely busy and the longest time i had to queue for certain attractions was minutes (which is really not that bad).although i had an amazing time, i felt a bit underwhelmed with choice of rides and attractions. the park itself is qui...</td>\n",
       "      <td>Positive</td>\n",
       "    </tr>\n",
       "  </tbody>\n",
       "</table>\n",
       "</div>"
      ],
      "text/plain": [
       "                                                                                                                                                                                                                                                                                                                                                                                                                                                                                                                                                                                                               Review_text  \\\n",
       "0                                                                                                                                                                                                                                                                               if you have ever been to disneyland anywhere you will find disneyland hong kong very similar in the layout when you walk into main street! it has a very familiar feel. one of the rides its a small world is absolutely fabulous and worth doing. the day we visited was fairly hot and relatively busy but the queues moved fairly well.   \n",
       "1  its been a while since d last time we visit hk disneyland .. yet, this time we only stay in tomorrowland .. aka marvel land!now they have iron man experience n d newly open ant man n d wasp!!ironman .. great feature n so exciting, especially d whole scenery of hk (hk central area to kowloon)!antman .. changed by previous buzz lightyear! more or less d same, but i am expecting to have something most!!however, my boys like it!!space mountain .. turns into star wars!! this is great!!!for cast members (staffs) .. felt bit minus point from before!!! just dun feel like its a disney brand!! seems...   \n",
       "2  thanks god it wasn t too hot or too humid when i was visiting the park otherwise it would be a big issue (there is not a lot of shade).i have arrived around :am and left at pm. unfortunately i didn t last until evening parade, but . hours was too much for me.there is plenty to do and everyone will find something interesting for themselves to enjoy.it wasn t extremely busy and the longest time i had to queue for certain attractions was minutes (which is really not that bad).although i had an amazing time, i felt a bit underwhelmed with choice of rides and attractions. the park itself is qui...   \n",
       "\n",
       "  Sentiment  \n",
       "0  Positive  \n",
       "1  Positive  \n",
       "2  Positive  "
      ]
     },
     "execution_count": 82,
     "metadata": {},
     "output_type": "execute_result"
    }
   ],
   "source": [
    "## Another approach to label the data other than using the rating --> we are combine multiple methods ( Vader, Textblob and ratings)\n",
    "df_main_class.head(3)"
   ]
  },
  {
   "cell_type": "code",
   "execution_count": 83,
   "id": "449327be",
   "metadata": {},
   "outputs": [],
   "source": [
    "def detect_tb_polarity(text):\n",
    "    return TextBlob(text).sentiment.polarity\n",
    "def detect_tb_subjectivity(text):\n",
    "    return TextBlob(text).sentiment.subjectivity\n",
    "\n",
    "def detect_vader_neg(text):\n",
    "    return vader.polarity_scores(text)['neg']\n",
    "\n",
    "\n",
    "def detect_vader_pos(text):\n",
    "    return vader.polarity_scores(text)['pos']\n",
    "\n",
    "def detect_vader_comp(text):\n",
    "    return vader.polarity_scores(text)['compound']"
   ]
  },
  {
   "cell_type": "code",
   "execution_count": 84,
   "id": "d7b01828",
   "metadata": {},
   "outputs": [
    {
     "data": {
      "text/html": [
       "<div>\n",
       "<style scoped>\n",
       "    .dataframe tbody tr th:only-of-type {\n",
       "        vertical-align: middle;\n",
       "    }\n",
       "\n",
       "    .dataframe tbody tr th {\n",
       "        vertical-align: top;\n",
       "    }\n",
       "\n",
       "    .dataframe thead th {\n",
       "        text-align: right;\n",
       "    }\n",
       "</style>\n",
       "<table border=\"1\" class=\"dataframe\">\n",
       "  <thead>\n",
       "    <tr style=\"text-align: right;\">\n",
       "      <th></th>\n",
       "      <th>Review_text</th>\n",
       "      <th>Sentiment</th>\n",
       "    </tr>\n",
       "  </thead>\n",
       "  <tbody>\n",
       "    <tr>\n",
       "      <th>0</th>\n",
       "      <td>if you have ever been to disneyland anywhere you will find disneyland hong kong very similar in the layout when you walk into main street! it has a very familiar feel. one of the rides its a small world is absolutely fabulous and worth doing. the day we visited was fairly hot and relatively busy but the queues moved fairly well.</td>\n",
       "      <td>Positive</td>\n",
       "    </tr>\n",
       "    <tr>\n",
       "      <th>1</th>\n",
       "      <td>its been a while since d last time we visit hk disneyland .. yet, this time we only stay in tomorrowland .. aka marvel land!now they have iron man experience n d newly open ant man n d wasp!!ironman .. great feature n so exciting, especially d whole scenery of hk (hk central area to kowloon)!antman .. changed by previous buzz lightyear! more or less d same, but i am expecting to have something most!!however, my boys like it!!space mountain .. turns into star wars!! this is great!!!for cast members (staffs) .. felt bit minus point from before!!! just dun feel like its a disney brand!! seems...</td>\n",
       "      <td>Positive</td>\n",
       "    </tr>\n",
       "    <tr>\n",
       "      <th>2</th>\n",
       "      <td>thanks god it wasn t too hot or too humid when i was visiting the park otherwise it would be a big issue (there is not a lot of shade).i have arrived around :am and left at pm. unfortunately i didn t last until evening parade, but . hours was too much for me.there is plenty to do and everyone will find something interesting for themselves to enjoy.it wasn t extremely busy and the longest time i had to queue for certain attractions was minutes (which is really not that bad).although i had an amazing time, i felt a bit underwhelmed with choice of rides and attractions. the park itself is qui...</td>\n",
       "      <td>Positive</td>\n",
       "    </tr>\n",
       "    <tr>\n",
       "      <th>3</th>\n",
       "      <td>hk disneyland is a great compact park. unfortunately there is quite a bit of maintenance work going on at present so a number of areas are closed off (including the famous castle) if you go midweek, it is not too crowded and certainly no where near as bus as la disneyland. we did notice on this visit that prices for food, drinks etc have really gone through the roof so be prepared to pay top dollar for snacks (and avoid the souvenir shops if you can) regardless, kids will love it.</td>\n",
       "      <td>Positive</td>\n",
       "    </tr>\n",
       "    <tr>\n",
       "      <th>4</th>\n",
       "      <td>the location is not in the city, took around hour from kowlon, my kids like disneyland so much, everything is fine. but its really crowded and hot in hong kong</td>\n",
       "      <td>Positive</td>\n",
       "    </tr>\n",
       "  </tbody>\n",
       "</table>\n",
       "</div>"
      ],
      "text/plain": [
       "                                                                                                                                                                                                                                                                                                                                                                                                                                                                                                                                                                                                               Review_text  \\\n",
       "0                                                                                                                                                                                                                                                                               if you have ever been to disneyland anywhere you will find disneyland hong kong very similar in the layout when you walk into main street! it has a very familiar feel. one of the rides its a small world is absolutely fabulous and worth doing. the day we visited was fairly hot and relatively busy but the queues moved fairly well.   \n",
       "1  its been a while since d last time we visit hk disneyland .. yet, this time we only stay in tomorrowland .. aka marvel land!now they have iron man experience n d newly open ant man n d wasp!!ironman .. great feature n so exciting, especially d whole scenery of hk (hk central area to kowloon)!antman .. changed by previous buzz lightyear! more or less d same, but i am expecting to have something most!!however, my boys like it!!space mountain .. turns into star wars!! this is great!!!for cast members (staffs) .. felt bit minus point from before!!! just dun feel like its a disney brand!! seems...   \n",
       "2  thanks god it wasn t too hot or too humid when i was visiting the park otherwise it would be a big issue (there is not a lot of shade).i have arrived around :am and left at pm. unfortunately i didn t last until evening parade, but . hours was too much for me.there is plenty to do and everyone will find something interesting for themselves to enjoy.it wasn t extremely busy and the longest time i had to queue for certain attractions was minutes (which is really not that bad).although i had an amazing time, i felt a bit underwhelmed with choice of rides and attractions. the park itself is qui...   \n",
       "3                                                                                                                    hk disneyland is a great compact park. unfortunately there is quite a bit of maintenance work going on at present so a number of areas are closed off (including the famous castle) if you go midweek, it is not too crowded and certainly no where near as bus as la disneyland. we did notice on this visit that prices for food, drinks etc have really gone through the roof so be prepared to pay top dollar for snacks (and avoid the souvenir shops if you can) regardless, kids will love it.   \n",
       "4                                                                                                                                                                                                                                                                                                                                                                                                                                                          the location is not in the city, took around hour from kowlon, my kids like disneyland so much, everything is fine. but its really crowded and hot in hong kong   \n",
       "\n",
       "  Sentiment  \n",
       "0  Positive  \n",
       "1  Positive  \n",
       "2  Positive  \n",
       "3  Positive  \n",
       "4  Positive  "
      ]
     },
     "execution_count": 84,
     "metadata": {},
     "output_type": "execute_result"
    }
   ],
   "source": [
    "df_sample = df_main_class.copy()\n",
    "df_sample.head()"
   ]
  },
  {
   "cell_type": "code",
   "execution_count": 85,
   "id": "71095112",
   "metadata": {},
   "outputs": [],
   "source": [
    "df_sample['tb_polarity'] = df_sample.Review_text.apply(detect_tb_polarity)\n",
    "df_sample['tb_subjectivity'] = df_sample.Review_text.apply(detect_tb_subjectivity)"
   ]
  },
  {
   "cell_type": "code",
   "execution_count": 86,
   "id": "6e5542c3",
   "metadata": {},
   "outputs": [],
   "source": [
    "vader = SentimentIntensityAnalyzer()\n",
    "df_sample['vader_pos'] = df_sample.Review_text.apply(detect_vader_pos)\n",
    "df_sample['vader_neg'] = df_sample.Review_text.apply(detect_vader_neg)\n",
    "df_sample['vader_comp'] = df_sample.Review_text.apply(detect_vader_comp)\n"
   ]
  },
  {
   "cell_type": "code",
   "execution_count": 87,
   "id": "8cbb7c7b",
   "metadata": {},
   "outputs": [
    {
     "data": {
      "text/html": [
       "<div>\n",
       "<style scoped>\n",
       "    .dataframe tbody tr th:only-of-type {\n",
       "        vertical-align: middle;\n",
       "    }\n",
       "\n",
       "    .dataframe tbody tr th {\n",
       "        vertical-align: top;\n",
       "    }\n",
       "\n",
       "    .dataframe thead th {\n",
       "        text-align: right;\n",
       "    }\n",
       "</style>\n",
       "<table border=\"1\" class=\"dataframe\">\n",
       "  <thead>\n",
       "    <tr style=\"text-align: right;\">\n",
       "      <th></th>\n",
       "      <th>Review_text</th>\n",
       "      <th>Sentiment</th>\n",
       "      <th>tb_polarity</th>\n",
       "      <th>tb_subjectivity</th>\n",
       "      <th>vader_pos</th>\n",
       "      <th>vader_neg</th>\n",
       "      <th>vader_comp</th>\n",
       "    </tr>\n",
       "  </thead>\n",
       "  <tbody>\n",
       "    <tr>\n",
       "      <th>0</th>\n",
       "      <td>if you have ever been to disneyland anywhere you will find disneyland hong kong very similar in the layout when you walk into main street! it has a very familiar feel. one of the rides its a small world is absolutely fabulous and worth doing. the day we visited was fairly hot and relatively busy but the queues moved fairly well.</td>\n",
       "      <td>Positive</td>\n",
       "      <td>0.243981</td>\n",
       "      <td>0.561481</td>\n",
       "      <td>0.106</td>\n",
       "      <td>0.000</td>\n",
       "      <td>0.7069</td>\n",
       "    </tr>\n",
       "    <tr>\n",
       "      <th>1</th>\n",
       "      <td>its been a while since d last time we visit hk disneyland .. yet, this time we only stay in tomorrowland .. aka marvel land!now they have iron man experience n d newly open ant man n d wasp!!ironman .. great feature n so exciting, especially d whole scenery of hk (hk central area to kowloon)!antman .. changed by previous buzz lightyear! more or less d same, but i am expecting to have something most!!however, my boys like it!!space mountain .. turns into star wars!! this is great!!!for cast members (staffs) .. felt bit minus point from before!!! just dun feel like its a disney brand!! seems...</td>\n",
       "      <td>Positive</td>\n",
       "      <td>0.220342</td>\n",
       "      <td>0.434649</td>\n",
       "      <td>0.201</td>\n",
       "      <td>0.039</td>\n",
       "      <td>0.9871</td>\n",
       "    </tr>\n",
       "  </tbody>\n",
       "</table>\n",
       "</div>"
      ],
      "text/plain": [
       "                                                                                                                                                                                                                                                                                                                                                                                                                                                                                                                                                                                                               Review_text  \\\n",
       "0                                                                                                                                                                                                                                                                               if you have ever been to disneyland anywhere you will find disneyland hong kong very similar in the layout when you walk into main street! it has a very familiar feel. one of the rides its a small world is absolutely fabulous and worth doing. the day we visited was fairly hot and relatively busy but the queues moved fairly well.   \n",
       "1  its been a while since d last time we visit hk disneyland .. yet, this time we only stay in tomorrowland .. aka marvel land!now they have iron man experience n d newly open ant man n d wasp!!ironman .. great feature n so exciting, especially d whole scenery of hk (hk central area to kowloon)!antman .. changed by previous buzz lightyear! more or less d same, but i am expecting to have something most!!however, my boys like it!!space mountain .. turns into star wars!! this is great!!!for cast members (staffs) .. felt bit minus point from before!!! just dun feel like its a disney brand!! seems...   \n",
       "\n",
       "  Sentiment  tb_polarity  tb_subjectivity  vader_pos  vader_neg  vader_comp  \n",
       "0  Positive     0.243981         0.561481      0.106      0.000      0.7069  \n",
       "1  Positive     0.220342         0.434649      0.201      0.039      0.9871  "
      ]
     },
     "execution_count": 87,
     "metadata": {},
     "output_type": "execute_result"
    }
   ],
   "source": [
    "# Checking the dataframe\n",
    "df_sample.head(2)\n",
    "#print(len(df_sample))"
   ]
  },
  {
   "cell_type": "code",
   "execution_count": 88,
   "id": "21a060cc",
   "metadata": {},
   "outputs": [],
   "source": [
    "# Check the number of reviews which subjectivity which actually involves sentiment is higher than objectivity\n",
    "#subjective_rows = df_sample.loc[(df_sample[\"tb_subjectivity\"]> 0.5),:]"
   ]
  },
  {
   "cell_type": "code",
   "execution_count": 89,
   "id": "2bdaac18",
   "metadata": {},
   "outputs": [],
   "source": [
    "#print(len(subjective_rows))"
   ]
  },
  {
   "cell_type": "code",
   "execution_count": 90,
   "id": "d377b95d",
   "metadata": {},
   "outputs": [],
   "source": [
    "# Filtering the rows that the rating, vador and the textblob agreed on positivity\n",
    "#positive_rows = df_sample.loc[(df_sample[\"Sentiment\"] == \"Positive\")&\n",
    " #             (df_sample[\"tb_polarity\"] > 0)& (df_sample[\"vader_pos\"] > df_sample[\"vader_neg\"])&\n",
    "  #                             (df_sample[\"tb_subjectivity\"] > 0.5),:]"
   ]
  },
  {
   "cell_type": "code",
   "execution_count": 91,
   "id": "3cdcde78",
   "metadata": {},
   "outputs": [],
   "source": [
    "#(positive_rows[\"vader_comp\"]<0.05).agg(\"count\")"
   ]
  },
  {
   "cell_type": "code",
   "execution_count": 92,
   "id": "e2f0b41d",
   "metadata": {},
   "outputs": [],
   "source": [
    "# Number of positive rows according to all three approaches\n",
    "#len(positive_rows)"
   ]
  },
  {
   "cell_type": "code",
   "execution_count": 93,
   "id": "12b85320",
   "metadata": {},
   "outputs": [],
   "source": [
    "# Filtering the rows that the rating, vador and the textblob agreed on Negativity\n",
    "#negative_rows = df_sample.loc[(df_sample[\"Sentiment\"] == \"Negative\")&\n",
    " #             (df_sample[\"tb_polarity\"] < 0)& (df_sample[\"vader_pos\"] < df_sample[\"vader_neg\"])&\n",
    "    #                          (df_sample[\"tb_subjectivity\"] > 0.5),:]"
   ]
  },
  {
   "cell_type": "code",
   "execution_count": 94,
   "id": "36fcf9c3",
   "metadata": {},
   "outputs": [],
   "source": [
    "# Number of positive rows according to all three approaches\n",
    "#len(negative_rows)"
   ]
  },
  {
   "cell_type": "code",
   "execution_count": 95,
   "id": "abf4849d",
   "metadata": {},
   "outputs": [],
   "source": [
    "# Filtering the rows that the rating, vador and the textblob agreed on Neutrality\n",
    "#neutral_rows = df_sample.loc[(df_sample[\"Sentiment\"] == \"Neutral\")&\n",
    " #             (df_sample[\"tb_polarity\"] == 0)& (df_sample[\"vader_pos\"] < df_sample[\"vader_neg\"])&\n",
    "  #                           (df_sample[\"tb_subjectivity\"] < 0.5),:]"
   ]
  },
  {
   "cell_type": "code",
   "execution_count": 96,
   "id": "81048f06",
   "metadata": {},
   "outputs": [],
   "source": [
    "#len(neutral_rows)"
   ]
  },
  {
   "cell_type": "code",
   "execution_count": 97,
   "id": "27ece453",
   "metadata": {},
   "outputs": [],
   "source": [
    "#Let's see the fraction of positive and negative rows in our data\n",
    "#print(len(positive_rows) / len(df_sample) ) \n",
    "#print(len(negative_rows) / len(df_sample) ) "
   ]
  },
  {
   "cell_type": "code",
   "execution_count": 98,
   "id": "482af0a3",
   "metadata": {},
   "outputs": [],
   "source": [
    "positive_rows = df_sample.loc[(df_sample[\"Sentiment\"] == \"Positive\")& (df_sample[\"vader_comp\"] > 0.05),:]"
   ]
  },
  {
   "cell_type": "code",
   "execution_count": 99,
   "id": "8e3129d2",
   "metadata": {},
   "outputs": [
    {
     "data": {
      "text/html": [
       "<div>\n",
       "<style scoped>\n",
       "    .dataframe tbody tr th:only-of-type {\n",
       "        vertical-align: middle;\n",
       "    }\n",
       "\n",
       "    .dataframe tbody tr th {\n",
       "        vertical-align: top;\n",
       "    }\n",
       "\n",
       "    .dataframe thead th {\n",
       "        text-align: right;\n",
       "    }\n",
       "</style>\n",
       "<table border=\"1\" class=\"dataframe\">\n",
       "  <thead>\n",
       "    <tr style=\"text-align: right;\">\n",
       "      <th></th>\n",
       "      <th>Review_text</th>\n",
       "      <th>Sentiment</th>\n",
       "      <th>tb_polarity</th>\n",
       "      <th>tb_subjectivity</th>\n",
       "      <th>vader_pos</th>\n",
       "      <th>vader_neg</th>\n",
       "      <th>vader_comp</th>\n",
       "    </tr>\n",
       "  </thead>\n",
       "  <tbody>\n",
       "    <tr>\n",
       "      <th>0</th>\n",
       "      <td>if you have ever been to disneyland anywhere you will find disneyland hong kong very similar in the layout when you walk into main street! it has a very familiar feel. one of the rides its a small world is absolutely fabulous and worth doing. the day we visited was fairly hot and relatively busy but the queues moved fairly well.</td>\n",
       "      <td>Positive</td>\n",
       "      <td>0.243981</td>\n",
       "      <td>0.561481</td>\n",
       "      <td>0.106</td>\n",
       "      <td>0.000</td>\n",
       "      <td>0.7069</td>\n",
       "    </tr>\n",
       "    <tr>\n",
       "      <th>1</th>\n",
       "      <td>its been a while since d last time we visit hk disneyland .. yet, this time we only stay in tomorrowland .. aka marvel land!now they have iron man experience n d newly open ant man n d wasp!!ironman .. great feature n so exciting, especially d whole scenery of hk (hk central area to kowloon)!antman .. changed by previous buzz lightyear! more or less d same, but i am expecting to have something most!!however, my boys like it!!space mountain .. turns into star wars!! this is great!!!for cast members (staffs) .. felt bit minus point from before!!! just dun feel like its a disney brand!! seems...</td>\n",
       "      <td>Positive</td>\n",
       "      <td>0.220342</td>\n",
       "      <td>0.434649</td>\n",
       "      <td>0.201</td>\n",
       "      <td>0.039</td>\n",
       "      <td>0.9871</td>\n",
       "    </tr>\n",
       "    <tr>\n",
       "      <th>2</th>\n",
       "      <td>thanks god it wasn t too hot or too humid when i was visiting the park otherwise it would be a big issue (there is not a lot of shade).i have arrived around :am and left at pm. unfortunately i didn t last until evening parade, but . hours was too much for me.there is plenty to do and everyone will find something interesting for themselves to enjoy.it wasn t extremely busy and the longest time i had to queue for certain attractions was minutes (which is really not that bad).although i had an amazing time, i felt a bit underwhelmed with choice of rides and attractions. the park itself is qui...</td>\n",
       "      <td>Positive</td>\n",
       "      <td>0.160498</td>\n",
       "      <td>0.422944</td>\n",
       "      <td>0.221</td>\n",
       "      <td>0.022</td>\n",
       "      <td>0.9920</td>\n",
       "    </tr>\n",
       "    <tr>\n",
       "      <th>3</th>\n",
       "      <td>hk disneyland is a great compact park. unfortunately there is quite a bit of maintenance work going on at present so a number of areas are closed off (including the famous castle) if you go midweek, it is not too crowded and certainly no where near as bus as la disneyland. we did notice on this visit that prices for food, drinks etc have really gone through the roof so be prepared to pay top dollar for snacks (and avoid the souvenir shops if you can) regardless, kids will love it.</td>\n",
       "      <td>Positive</td>\n",
       "      <td>0.189286</td>\n",
       "      <td>0.512143</td>\n",
       "      <td>0.154</td>\n",
       "      <td>0.078</td>\n",
       "      <td>0.8425</td>\n",
       "    </tr>\n",
       "    <tr>\n",
       "      <th>4</th>\n",
       "      <td>the location is not in the city, took around hour from kowlon, my kids like disneyland so much, everything is fine. but its really crowded and hot in hong kong</td>\n",
       "      <td>Positive</td>\n",
       "      <td>0.266667</td>\n",
       "      <td>0.437500</td>\n",
       "      <td>0.101</td>\n",
       "      <td>0.000</td>\n",
       "      <td>0.2846</td>\n",
       "    </tr>\n",
       "    <tr>\n",
       "      <th>...</th>\n",
       "      <td>...</td>\n",
       "      <td>...</td>\n",
       "      <td>...</td>\n",
       "      <td>...</td>\n",
       "      <td>...</td>\n",
       "      <td>...</td>\n",
       "      <td>...</td>\n",
       "    </tr>\n",
       "    <tr>\n",
       "      <th>42638</th>\n",
       "      <td>we were at disneyland september th. what a great time we had!! the park was not crowded and the weather was awesome. this was our first family vacation and it could not of been better. it was hard to say who had a better time, our year old or us?? we will definately go back.!</td>\n",
       "      <td>Positive</td>\n",
       "      <td>0.382292</td>\n",
       "      <td>0.478125</td>\n",
       "      <td>0.187</td>\n",
       "      <td>0.058</td>\n",
       "      <td>0.8893</td>\n",
       "    </tr>\n",
       "    <tr>\n",
       "      <th>42639</th>\n",
       "      <td>i have taken my music groups to disneyland for a number of years to participate in disney magic music days. from start to finish it has been a totally professional experience! if you are thinking about this program, stop thinking, and do it!lines and waiting in line is part of the experience. take time to meet new people, and enjoy your experience without being in a big hurry. a little planning will help in cutting down the wait time. avoid the busiest times christmas, spring break, etc. our last family trip was in mid july, and our longest wait in line was min. at small world, of all plac...</td>\n",
       "      <td>Positive</td>\n",
       "      <td>0.064457</td>\n",
       "      <td>0.382172</td>\n",
       "      <td>0.081</td>\n",
       "      <td>0.025</td>\n",
       "      <td>0.9273</td>\n",
       "    </tr>\n",
       "    <tr>\n",
       "      <th>42640</th>\n",
       "      <td>this is definitely the happiest place on earth! no long drives to get to these parks! the rides are better, too! also, get fastpasses! the lines can get really long.</td>\n",
       "      <td>Positive</td>\n",
       "      <td>0.190625</td>\n",
       "      <td>0.450000</td>\n",
       "      <td>0.280</td>\n",
       "      <td>0.056</td>\n",
       "      <td>0.8679</td>\n",
       "    </tr>\n",
       "    <tr>\n",
       "      <th>42642</th>\n",
       "      <td>we take a long weekend trip to california each january and always start our vacation at disneyland. wonderful, fun, safe and makes you forget just for a little while that all is not perfect in the world.</td>\n",
       "      <td>Positive</td>\n",
       "      <td>0.177083</td>\n",
       "      <td>0.600000</td>\n",
       "      <td>0.212</td>\n",
       "      <td>0.105</td>\n",
       "      <td>0.7186</td>\n",
       "    </tr>\n",
       "    <tr>\n",
       "      <th>42643</th>\n",
       "      <td>disnyeland has to be the best place to take a family for a wonderful vacation or just a day of fun! it is safe, clean &amp; takes you back to a simpler time. i have visited disneyland at least times &amp; never tire of it or the magic it gives to everyone. when you step onto main street you see what walt saw evertime he was there. look up over the fire house &amp; that was walt's apartment for when he stayed at the park. there is a light on in the window which meant that walt was in the park, when he was alive. that light is left on all the time now to remind the cast members &amp; visitors that walt will...</td>\n",
       "      <td>Positive</td>\n",
       "      <td>0.246847</td>\n",
       "      <td>0.467417</td>\n",
       "      <td>0.149</td>\n",
       "      <td>0.015</td>\n",
       "      <td>0.9993</td>\n",
       "    </tr>\n",
       "  </tbody>\n",
       "</table>\n",
       "<p>33911 rows × 7 columns</p>\n",
       "</div>"
      ],
      "text/plain": [
       "                                                                                                                                                                                                                                                                                                                                                                                                                                                                                                                                                                                                                   Review_text  \\\n",
       "0                                                                                                                                                                                                                                                                                   if you have ever been to disneyland anywhere you will find disneyland hong kong very similar in the layout when you walk into main street! it has a very familiar feel. one of the rides its a small world is absolutely fabulous and worth doing. the day we visited was fairly hot and relatively busy but the queues moved fairly well.   \n",
       "1      its been a while since d last time we visit hk disneyland .. yet, this time we only stay in tomorrowland .. aka marvel land!now they have iron man experience n d newly open ant man n d wasp!!ironman .. great feature n so exciting, especially d whole scenery of hk (hk central area to kowloon)!antman .. changed by previous buzz lightyear! more or less d same, but i am expecting to have something most!!however, my boys like it!!space mountain .. turns into star wars!! this is great!!!for cast members (staffs) .. felt bit minus point from before!!! just dun feel like its a disney brand!! seems...   \n",
       "2      thanks god it wasn t too hot or too humid when i was visiting the park otherwise it would be a big issue (there is not a lot of shade).i have arrived around :am and left at pm. unfortunately i didn t last until evening parade, but . hours was too much for me.there is plenty to do and everyone will find something interesting for themselves to enjoy.it wasn t extremely busy and the longest time i had to queue for certain attractions was minutes (which is really not that bad).although i had an amazing time, i felt a bit underwhelmed with choice of rides and attractions. the park itself is qui...   \n",
       "3                                                                                                                        hk disneyland is a great compact park. unfortunately there is quite a bit of maintenance work going on at present so a number of areas are closed off (including the famous castle) if you go midweek, it is not too crowded and certainly no where near as bus as la disneyland. we did notice on this visit that prices for food, drinks etc have really gone through the roof so be prepared to pay top dollar for snacks (and avoid the souvenir shops if you can) regardless, kids will love it.   \n",
       "4                                                                                                                                                                                                                                                                                                                                                                                                                                                              the location is not in the city, took around hour from kowlon, my kids like disneyland so much, everything is fine. but its really crowded and hot in hong kong   \n",
       "...                                                                                                                                                                                                                                                                                                                                                                                                                                                                                                                                                                                                                        ...   \n",
       "42638                                                                                                                                                                                                                                                                                                                                     we were at disneyland september th. what a great time we had!! the park was not crowded and the weather was awesome. this was our first family vacation and it could not of been better. it was hard to say who had a better time, our year old or us?? we will definately go back.!   \n",
       "42639  i have taken my music groups to disneyland for a number of years to participate in disney magic music days. from start to finish it has been a totally professional experience! if you are thinking about this program, stop thinking, and do it!lines and waiting in line is part of the experience. take time to meet new people, and enjoy your experience without being in a big hurry. a little planning will help in cutting down the wait time. avoid the busiest times christmas, spring break, etc. our last family trip was in mid july, and our longest wait in line was min. at small world, of all plac...   \n",
       "42640                                                                                                                                                                                                                                                                                                                                                                                                                                                    this is definitely the happiest place on earth! no long drives to get to these parks! the rides are better, too! also, get fastpasses! the lines can get really long.   \n",
       "42642                                                                                                                                                                                                                                                                                                                                                                                                              we take a long weekend trip to california each january and always start our vacation at disneyland. wonderful, fun, safe and makes you forget just for a little while that all is not perfect in the world.   \n",
       "42643  disnyeland has to be the best place to take a family for a wonderful vacation or just a day of fun! it is safe, clean & takes you back to a simpler time. i have visited disneyland at least times & never tire of it or the magic it gives to everyone. when you step onto main street you see what walt saw evertime he was there. look up over the fire house & that was walt's apartment for when he stayed at the park. there is a light on in the window which meant that walt was in the park, when he was alive. that light is left on all the time now to remind the cast members & visitors that walt will...   \n",
       "\n",
       "      Sentiment  tb_polarity  tb_subjectivity  vader_pos  vader_neg  \\\n",
       "0      Positive     0.243981         0.561481      0.106      0.000   \n",
       "1      Positive     0.220342         0.434649      0.201      0.039   \n",
       "2      Positive     0.160498         0.422944      0.221      0.022   \n",
       "3      Positive     0.189286         0.512143      0.154      0.078   \n",
       "4      Positive     0.266667         0.437500      0.101      0.000   \n",
       "...         ...          ...              ...        ...        ...   \n",
       "42638  Positive     0.382292         0.478125      0.187      0.058   \n",
       "42639  Positive     0.064457         0.382172      0.081      0.025   \n",
       "42640  Positive     0.190625         0.450000      0.280      0.056   \n",
       "42642  Positive     0.177083         0.600000      0.212      0.105   \n",
       "42643  Positive     0.246847         0.467417      0.149      0.015   \n",
       "\n",
       "       vader_comp  \n",
       "0          0.7069  \n",
       "1          0.9871  \n",
       "2          0.9920  \n",
       "3          0.8425  \n",
       "4          0.2846  \n",
       "...           ...  \n",
       "42638      0.8893  \n",
       "42639      0.9273  \n",
       "42640      0.8679  \n",
       "42642      0.7186  \n",
       "42643      0.9993  \n",
       "\n",
       "[33911 rows x 7 columns]"
      ]
     },
     "execution_count": 99,
     "metadata": {},
     "output_type": "execute_result"
    }
   ],
   "source": [
    " df_sample.loc[(df_sample[\"Sentiment\"] == \"Positive\"),:]"
   ]
  },
  {
   "cell_type": "code",
   "execution_count": 100,
   "id": "816b10d2",
   "metadata": {},
   "outputs": [
    {
     "data": {
      "text/plain": [
       "32107"
      ]
     },
     "execution_count": 100,
     "metadata": {},
     "output_type": "execute_result"
    }
   ],
   "source": [
    "len(positive_rows)"
   ]
  },
  {
   "cell_type": "code",
   "execution_count": 101,
   "id": "c4117a73",
   "metadata": {},
   "outputs": [],
   "source": [
    "negative_rows = df_sample.loc[(df_sample[\"Sentiment\"] == \"Negative\")&(df_sample[\"vader_comp\"] < -0.05),:]"
   ]
  },
  {
   "cell_type": "code",
   "execution_count": 102,
   "id": "1f606783",
   "metadata": {},
   "outputs": [
    {
     "data": {
      "text/plain": [
       "1651"
      ]
     },
     "execution_count": 102,
     "metadata": {},
     "output_type": "execute_result"
    }
   ],
   "source": [
    "len(negative_rows)"
   ]
  },
  {
   "cell_type": "code",
   "execution_count": 103,
   "id": "64007de0",
   "metadata": {},
   "outputs": [],
   "source": [
    "neutral_rows = df_sample.loc[\n",
    "             (df_sample[\"vader_comp\"] == 0.05),:]"
   ]
  },
  {
   "cell_type": "code",
   "execution_count": 104,
   "id": "61f41e1b",
   "metadata": {},
   "outputs": [
    {
     "data": {
      "text/plain": [
       "(42644, 2)"
      ]
     },
     "execution_count": 104,
     "metadata": {},
     "output_type": "execute_result"
    }
   ],
   "source": [
    "df_main_class.shape"
   ]
  },
  {
   "cell_type": "code",
   "execution_count": 105,
   "id": "6b3ae279",
   "metadata": {},
   "outputs": [],
   "source": [
    "# Subseting the data frame by using the rows which rating wise and vader compound score wise were positive and negative or the \n",
    "# Rating was neutral\n",
    "neg_pos_class_df = df_sample.loc[(df_sample[\"Sentiment\"] == \"Negative\")&\n",
    "             (df_sample[\"vader_comp\"] < 0.05)  | (df_sample[\"Sentiment\"] == \"Positive\")&\n",
    "             (df_sample[\"vader_comp\"] > 0.05) | (df_sample[\"Sentiment\"] == \"Neutral\"),:]"
   ]
  },
  {
   "cell_type": "code",
   "execution_count": 106,
   "id": "bf96e7ac",
   "metadata": {},
   "outputs": [
    {
     "data": {
      "text/html": [
       "<div>\n",
       "<style scoped>\n",
       "    .dataframe tbody tr th:only-of-type {\n",
       "        vertical-align: middle;\n",
       "    }\n",
       "\n",
       "    .dataframe tbody tr th {\n",
       "        vertical-align: top;\n",
       "    }\n",
       "\n",
       "    .dataframe thead th {\n",
       "        text-align: right;\n",
       "    }\n",
       "</style>\n",
       "<table border=\"1\" class=\"dataframe\">\n",
       "  <thead>\n",
       "    <tr style=\"text-align: right;\">\n",
       "      <th></th>\n",
       "      <th>Review_text</th>\n",
       "      <th>Sentiment</th>\n",
       "      <th>tb_polarity</th>\n",
       "      <th>tb_subjectivity</th>\n",
       "      <th>vader_pos</th>\n",
       "      <th>vader_neg</th>\n",
       "      <th>vader_comp</th>\n",
       "    </tr>\n",
       "  </thead>\n",
       "  <tbody>\n",
       "    <tr>\n",
       "      <th>0</th>\n",
       "      <td>if you have ever been to disneyland anywhere you will find disneyland hong kong very similar in the layout when you walk into main street! it has a very familiar feel. one of the rides its a small world is absolutely fabulous and worth doing. the day we visited was fairly hot and relatively busy but the queues moved fairly well.</td>\n",
       "      <td>Positive</td>\n",
       "      <td>0.243981</td>\n",
       "      <td>0.561481</td>\n",
       "      <td>0.106</td>\n",
       "      <td>0.000</td>\n",
       "      <td>0.7069</td>\n",
       "    </tr>\n",
       "    <tr>\n",
       "      <th>1</th>\n",
       "      <td>its been a while since d last time we visit hk disneyland .. yet, this time we only stay in tomorrowland .. aka marvel land!now they have iron man experience n d newly open ant man n d wasp!!ironman .. great feature n so exciting, especially d whole scenery of hk (hk central area to kowloon)!antman .. changed by previous buzz lightyear! more or less d same, but i am expecting to have something most!!however, my boys like it!!space mountain .. turns into star wars!! this is great!!!for cast members (staffs) .. felt bit minus point from before!!! just dun feel like its a disney brand!! seems...</td>\n",
       "      <td>Positive</td>\n",
       "      <td>0.220342</td>\n",
       "      <td>0.434649</td>\n",
       "      <td>0.201</td>\n",
       "      <td>0.039</td>\n",
       "      <td>0.9871</td>\n",
       "    </tr>\n",
       "    <tr>\n",
       "      <th>2</th>\n",
       "      <td>thanks god it wasn t too hot or too humid when i was visiting the park otherwise it would be a big issue (there is not a lot of shade).i have arrived around :am and left at pm. unfortunately i didn t last until evening parade, but . hours was too much for me.there is plenty to do and everyone will find something interesting for themselves to enjoy.it wasn t extremely busy and the longest time i had to queue for certain attractions was minutes (which is really not that bad).although i had an amazing time, i felt a bit underwhelmed with choice of rides and attractions. the park itself is qui...</td>\n",
       "      <td>Positive</td>\n",
       "      <td>0.160498</td>\n",
       "      <td>0.422944</td>\n",
       "      <td>0.221</td>\n",
       "      <td>0.022</td>\n",
       "      <td>0.9920</td>\n",
       "    </tr>\n",
       "    <tr>\n",
       "      <th>3</th>\n",
       "      <td>hk disneyland is a great compact park. unfortunately there is quite a bit of maintenance work going on at present so a number of areas are closed off (including the famous castle) if you go midweek, it is not too crowded and certainly no where near as bus as la disneyland. we did notice on this visit that prices for food, drinks etc have really gone through the roof so be prepared to pay top dollar for snacks (and avoid the souvenir shops if you can) regardless, kids will love it.</td>\n",
       "      <td>Positive</td>\n",
       "      <td>0.189286</td>\n",
       "      <td>0.512143</td>\n",
       "      <td>0.154</td>\n",
       "      <td>0.078</td>\n",
       "      <td>0.8425</td>\n",
       "    </tr>\n",
       "    <tr>\n",
       "      <th>4</th>\n",
       "      <td>the location is not in the city, took around hour from kowlon, my kids like disneyland so much, everything is fine. but its really crowded and hot in hong kong</td>\n",
       "      <td>Positive</td>\n",
       "      <td>0.266667</td>\n",
       "      <td>0.437500</td>\n",
       "      <td>0.101</td>\n",
       "      <td>0.000</td>\n",
       "      <td>0.2846</td>\n",
       "    </tr>\n",
       "  </tbody>\n",
       "</table>\n",
       "</div>"
      ],
      "text/plain": [
       "                                                                                                                                                                                                                                                                                                                                                                                                                                                                                                                                                                                                               Review_text  \\\n",
       "0                                                                                                                                                                                                                                                                               if you have ever been to disneyland anywhere you will find disneyland hong kong very similar in the layout when you walk into main street! it has a very familiar feel. one of the rides its a small world is absolutely fabulous and worth doing. the day we visited was fairly hot and relatively busy but the queues moved fairly well.   \n",
       "1  its been a while since d last time we visit hk disneyland .. yet, this time we only stay in tomorrowland .. aka marvel land!now they have iron man experience n d newly open ant man n d wasp!!ironman .. great feature n so exciting, especially d whole scenery of hk (hk central area to kowloon)!antman .. changed by previous buzz lightyear! more or less d same, but i am expecting to have something most!!however, my boys like it!!space mountain .. turns into star wars!! this is great!!!for cast members (staffs) .. felt bit minus point from before!!! just dun feel like its a disney brand!! seems...   \n",
       "2  thanks god it wasn t too hot or too humid when i was visiting the park otherwise it would be a big issue (there is not a lot of shade).i have arrived around :am and left at pm. unfortunately i didn t last until evening parade, but . hours was too much for me.there is plenty to do and everyone will find something interesting for themselves to enjoy.it wasn t extremely busy and the longest time i had to queue for certain attractions was minutes (which is really not that bad).although i had an amazing time, i felt a bit underwhelmed with choice of rides and attractions. the park itself is qui...   \n",
       "3                                                                                                                    hk disneyland is a great compact park. unfortunately there is quite a bit of maintenance work going on at present so a number of areas are closed off (including the famous castle) if you go midweek, it is not too crowded and certainly no where near as bus as la disneyland. we did notice on this visit that prices for food, drinks etc have really gone through the roof so be prepared to pay top dollar for snacks (and avoid the souvenir shops if you can) regardless, kids will love it.   \n",
       "4                                                                                                                                                                                                                                                                                                                                                                                                                                                          the location is not in the city, took around hour from kowlon, my kids like disneyland so much, everything is fine. but its really crowded and hot in hong kong   \n",
       "\n",
       "  Sentiment  tb_polarity  tb_subjectivity  vader_pos  vader_neg  vader_comp  \n",
       "0  Positive     0.243981         0.561481      0.106      0.000      0.7069  \n",
       "1  Positive     0.220342         0.434649      0.201      0.039      0.9871  \n",
       "2  Positive     0.160498         0.422944      0.221      0.022      0.9920  \n",
       "3  Positive     0.189286         0.512143      0.154      0.078      0.8425  \n",
       "4  Positive     0.266667         0.437500      0.101      0.000      0.2846  "
      ]
     },
     "execution_count": 106,
     "metadata": {},
     "output_type": "execute_result"
    }
   ],
   "source": [
    "neg_pos_class_df.head()"
   ]
  },
  {
   "cell_type": "code",
   "execution_count": 107,
   "id": "abc6e651",
   "metadata": {},
   "outputs": [],
   "source": [
    "### By looking at the number of positive and negative reviews only based on the rating that we manually defined and\n",
    "# compare them with the intersection of the positive and negative numbers from vader compound "
   ]
  },
  {
   "cell_type": "code",
   "execution_count": 108,
   "id": "ab31e531",
   "metadata": {},
   "outputs": [
    {
     "data": {
      "text/plain": [
       "California    19404\n",
       "Paris         13629\n",
       "HongKong       9611\n",
       "Name: Location, dtype: int64"
      ]
     },
     "execution_count": 108,
     "metadata": {},
     "output_type": "execute_result"
    }
   ],
   "source": [
    "df_main[\"Location\"].value_counts()"
   ]
  },
  {
   "cell_type": "code",
   "execution_count": 109,
   "id": "a2257b46",
   "metadata": {},
   "outputs": [],
   "source": [
    "################################# Let's divide the dataset to parks and then create classifiers for each park\n",
    "\n",
    "hongkong_df=df_main.loc[df_main[\"Location\"]==\"HongKong\",[\"Review_text\",\"Sentiment\"]]\n",
    "califonia_df=df_main.loc[df_main[\"Location\"]==\"California\",[\"Review_text\",\"Sentiment\"]]\n",
    "paris_df=df_main.loc[df_main[\"Location\"]==\"Paris\",[\"Review_text\",\"Sentiment\"]]"
   ]
  },
  {
   "cell_type": "code",
   "execution_count": 110,
   "id": "5901514f",
   "metadata": {},
   "outputs": [
    {
     "name": "stdout",
     "output_type": "stream",
     "text": [
      "(9611, 2)\n",
      "(19404, 2)\n",
      "(13629, 2)\n"
     ]
    }
   ],
   "source": [
    "## shape\n",
    "print(hongkong_df.shape)\n",
    "print(califonia_df.shape)\n",
    "print(paris_df.shape)"
   ]
  },
  {
   "cell_type": "code",
   "execution_count": 111,
   "id": "24d4fa45",
   "metadata": {},
   "outputs": [],
   "source": [
    "#Apply the text processing to all of the three parks datasets\n",
    "hongkong_df[\"Review_text\"]= hongkong_df[\"Review_text\"].apply(lambda x: text_preprocessing(x))\n",
    "califonia_df[\"Review_text\"]= califonia_df[\"Review_text\"].apply(lambda x: text_preprocessing(x))\n",
    "paris_df[\"Review_text\"]= paris_df[\"Review_text\"].apply(lambda x: text_preprocessing(x))"
   ]
  },
  {
   "cell_type": "code",
   "execution_count": 112,
   "id": "9066aa44",
   "metadata": {},
   "outputs": [],
   "source": [
    "## Let's create columns and sentiment using textblob \n",
    "hongkong_df['tb_polarity'] = hongkong_df.Review_text.apply(detect_tb_polarity)\n",
    "\n",
    "califonia_df['tb_polarity'] = califonia_df.Review_text.apply(detect_tb_polarity)\n",
    "\n",
    "paris_df['tb_polarity'] = paris_df.Review_text.apply(detect_tb_polarity)\n",
    "\n"
   ]
  },
  {
   "cell_type": "code",
   "execution_count": 113,
   "id": "f15e57ea",
   "metadata": {},
   "outputs": [],
   "source": [
    "## Let's create columns and sentiment using Vader\n",
    "vader = SentimentIntensityAnalyzer()\n",
    "hongkong_df['vader_comp'] = hongkong_df.Review_text.apply(detect_vader_comp)\n",
    "califonia_df['vader_comp'] = califonia_df.Review_text.apply(detect_vader_comp)\n",
    "paris_df['vader_comp'] = paris_df.Review_text.apply(detect_vader_comp)"
   ]
  },
  {
   "cell_type": "code",
   "execution_count": 114,
   "id": "20714785",
   "metadata": {},
   "outputs": [],
   "source": [
    "# Let's get the rows that the sentiment from the rating , textblob and vader agrees on positive and negatives and for neutral we trust the rating\n",
    "hongkong_df_main_class = hongkong_df.loc[(hongkong_df[\"Sentiment\"] == \"Negative\")&\n",
    "             (hongkong_df[\"vader_comp\"] < 0.05) & (hongkong_df[\"tb_polarity\"]<0)   | (hongkong_df[\"Sentiment\"] == \"Positive\")&\n",
    "             (hongkong_df[\"vader_comp\"] > 0.05) & (hongkong_df[\"tb_polarity\"]>0)  | (hongkong_df[\"Sentiment\"] == \"Neutral\"),[\"Review_text\",\"Sentiment\"]]\n",
    "\n",
    "califonia_df_main_class = califonia_df.loc[(califonia_df[\"Sentiment\"] == \"Negative\")&\n",
    "             (califonia_df[\"vader_comp\"] < 0.05) & (califonia_df[\"tb_polarity\"]<0)   | (califonia_df[\"Sentiment\"] == \"Positive\")&\n",
    "             (califonia_df[\"vader_comp\"] > 0.05) & (califonia_df[\"tb_polarity\"]>0)  | (califonia_df[\"Sentiment\"] == \"Neutral\"),[\"Review_text\",\"Sentiment\"]]\n",
    "\n",
    "paris_df_main_class = paris_df.loc[(paris_df[\"Sentiment\"] == \"Negative\")&\n",
    "             (paris_df[\"vader_comp\"] < 0.05) & (paris_df[\"tb_polarity\"]<0)   | (paris_df[\"Sentiment\"] == \"Positive\")&\n",
    "             (paris_df[\"vader_comp\"] > 0.05) & (paris_df[\"tb_polarity\"]>0)  | (paris_df[\"Sentiment\"] == \"Neutral\"),[\"Review_text\",\"Sentiment\"]]\n",
    "\n",
    "\n",
    "\n"
   ]
  },
  {
   "cell_type": "code",
   "execution_count": 115,
   "id": "4afdebfe",
   "metadata": {},
   "outputs": [
    {
     "name": "stdout",
     "output_type": "stream",
     "text": [
      "(8687, 2)\n",
      "(17055, 2)\n",
      "(11545, 2)\n"
     ]
    }
   ],
   "source": [
    "print(hongkong_df_main_class.shape)\n",
    "print(califonia_df_main_class.shape)\n",
    "print(paris_df_main_class.shape)"
   ]
  },
  {
   "cell_type": "code",
   "execution_count": 116,
   "id": "9e6714d4",
   "metadata": {},
   "outputs": [],
   "source": [
    "#Making classification models for each park dataset \n",
    "# Starting with HongKong\n",
    "X_h = hongkong_df_main_class[\"Review_text\"]\n",
    "Y_h = hongkong_df_main_class[\"Sentiment\"]"
   ]
  },
  {
   "cell_type": "code",
   "execution_count": 120,
   "id": "7f0d5b35",
   "metadata": {},
   "outputs": [],
   "source": [
    "# Train Test\n",
    "# Splitting the data into train and test data\n",
    "X_train_h , X_test_h , Y_train_h , Y_test_h = train_test_split(X_h,Y_h, test_size = 0.2)\n"
   ]
  },
  {
   "cell_type": "code",
   "execution_count": 132,
   "id": "a27cab8b",
   "metadata": {},
   "outputs": [
    {
     "name": "stdout",
     "output_type": "stream",
     "text": [
      "(6949,)\n",
      "(1738,)\n",
      "(6949,)\n",
      "(1738,)\n"
     ]
    }
   ],
   "source": [
    "print(X_train_h.shape)\n",
    "print(X_test_h.shape)\n",
    "print(Y_train_h.shape)\n",
    "print(Y_test_h.shape)"
   ]
  },
  {
   "cell_type": "code",
   "execution_count": 124,
   "id": "a64e20fe",
   "metadata": {},
   "outputs": [],
   "source": [
    "# Bag of words\n",
    "vectorizer = CountVectorizer()\n",
    "tfidf = TfidfVectorizer()\n",
    "tfidf_bigram = TfidfVectorizer(ngram_range=(2,2))\n",
    "tfidf_trigram = TfidfVectorizer(ngram_range=(3,3))\n",
    "tfidf_combined = TfidfVectorizer(ngram_range=(1,3))\n",
    "tfidf_vectorizers = [tfidf, tfidf_bigram, tfidf_trigram, tfidf_combined]"
   ]
  },
  {
   "cell_type": "code",
   "execution_count": 178,
   "id": "8a4bfcab",
   "metadata": {},
   "outputs": [
    {
     "name": "stdout",
     "output_type": "stream",
     "text": [
      "Train/test F1 for Logistic Regression:  0.8886170672039142 0.8601841196777906\n",
      "Train/test F1 for Decision Tree:  0.821844869765434 0.8423475258918297\n",
      "\n",
      "% Cases where the two classifiers agree on test data:  0.9447640966628308\n",
      "% Cases where one of the two classifiers has correct answer:  0.8757192174913693\n",
      "\n",
      "Train/test F1 for Ensemble:  0.8776802417614045 0.857307249712313\n"
     ]
    }
   ],
   "source": [
    "# Ensemble modeling\n",
    "from sklearn.ensemble import VotingClassifier\n",
    "\n",
    "features = TfidfVectorizer()\n",
    "lr_features = TfidfVectorizer()\n",
    "\n",
    "lr_model = LogisticRegression(C=1, max_iter= 500)\n",
    "lr_classifier = make_pipeline(features, lr_model)\n",
    "lr_classifier.fit(X_train_h, Y_train_h)\n",
    "\n",
    "#TODO FOR STUDENT: Try playing with the min_samples_split to see how it affect the ensemble score\n",
    "rf_model = RandomForestClassifier(n_estimators = 200 , min_samples_split=0.1)\n",
    "rf_classifier = make_pipeline(features, rf_model)\n",
    "rf_classifier.fit(X_train_h, Y_train_h)\n",
    "\n",
    "#Compare accuracy of the two models\n",
    "lr_train_preds = lr_classifier.predict(X_train_h)\n",
    "lr_train_f1 = f1_score(Y_train_h, lr_train_preds, average='micro')\n",
    "lr_test_preds = lr_classifier.predict(X_test_h)\n",
    "lr_test_f1 = f1_score(Y_test_h, lr_test_preds, average='micro')\n",
    "print(\"Train/test F1 for Logistic Regression: \", lr_train_f1, lr_test_f1)\n",
    "\n",
    "rf_train_preds = rf_classifier.predict(X_train_h)\n",
    "rf_train_f1 = f1_score(Y_train_h, rf_train_preds, average='micro')\n",
    "rf_test_preds = rf_classifier.predict(X_test_h)\n",
    "rf_test_f1 = f1_score(Y_test_h, rf_test_preds, average='micro')\n",
    "print(\"Train/test F1 for Random Forest: \", rf_train_f1, rf_test_f1)\n",
    "\n",
    "#Look at classifier agreement\n",
    "print(\"\\n% Cases where the two classifiers agree on test data: \", np.sum(lr_test_preds == rf_test_preds)/len(lr_test_preds))\n",
    "print(\"% Cases where one of the two classifiers has correct answer: \", np.sum(np.logical_or(lr_test_preds == Y_test_h, rf_test_preds == Y_test_h)/len(lr_test_preds)))\n",
    "\n",
    "#Try to build an ensemble combing both models\n",
    "#TODO FOR STUDENT: Modify the weights parameter which give different weight to each of the classifiers\n",
    "ensemble_classifier = make_pipeline(lr_features, VotingClassifier(estimators=[('lr', lr_model), ('rf', rf_model)], voting='soft', weights=[3,1]))\n",
    "ensemble_classifier.fit(X_train_h, Y_train_h)\n",
    "\n",
    "ensemble_train_preds = ensemble_classifier.predict(X_train_h)\n",
    "ensemble_train_f1 = f1_score(Y_train_h, ensemble_train_preds, average='micro')\n",
    "ensemble_test_preds = ensemble_classifier.predict(X_test_h)\n",
    "ensemble_test_f1 = f1_score(Y_test_h, ensemble_test_preds, average='micro')\n",
    "print(\"\\nTrain/test F1 for Ensemble: \", ensemble_train_f1, ensemble_test_f1)\n"
   ]
  },
  {
   "cell_type": "code",
   "execution_count": 140,
   "id": "f000e517",
   "metadata": {},
   "outputs": [],
   "source": [
    "#Making classification models for each park dataset \n",
    "#  california\n",
    "X_c = califonia_df_main_class[\"Review_text\"]\n",
    "Y_c = califonia_df_main_class[\"Sentiment\"]"
   ]
  },
  {
   "cell_type": "code",
   "execution_count": 141,
   "id": "7c6d9bab",
   "metadata": {},
   "outputs": [],
   "source": [
    "# Train Test\n",
    "# Splitting the data into train and test data\n",
    "X_train_c , X_test_c , Y_train_c , Y_test_c = train_test_split(X_c,Y_c, test_size = 0.2)\n"
   ]
  },
  {
   "cell_type": "code",
   "execution_count": 142,
   "id": "f5c3f303",
   "metadata": {},
   "outputs": [],
   "source": [
    "# Bag of words\n",
    "vectorizer = CountVectorizer()\n",
    "tfidf = TfidfVectorizer()\n",
    "tfidf_bigram = TfidfVectorizer(ngram_range=(2,2))\n",
    "tfidf_trigram = TfidfVectorizer(ngram_range=(3,3))\n",
    "tfidf_combined = TfidfVectorizer(ngram_range=(1,3))\n",
    "tfidf_vectorizers = [tfidf, tfidf_bigram, tfidf_trigram, tfidf_combined]"
   ]
  },
  {
   "cell_type": "code",
   "execution_count": 179,
   "id": "25063e87",
   "metadata": {},
   "outputs": [
    {
     "name": "stdout",
     "output_type": "stream",
     "text": [
      "Train/test F1 for Logistic Regression:  0.922530049838757 0.891234242157725\n",
      "Train/test F1 for Decision Tree:  0.913441805922017 0.8569334506009968\n",
      "\n",
      "% Cases where the two classifiers agree on test data:  0.92143066549399\n",
      "% Cases where one of the two classifiers has correct answer:  0.9070653767223688\n",
      "\n",
      "Train/test F1 for Ensemble:  0.9217971269422457 0.8891820580474934\n"
     ]
    }
   ],
   "source": [
    "# Ensemble modeling\n",
    "from sklearn.ensemble import VotingClassifier\n",
    "\n",
    "features = TfidfVectorizer()\n",
    "lr_features = TfidfVectorizer()\n",
    "\n",
    "lr_model = LogisticRegression(C=1, max_iter = 1500)\n",
    "lr_classifier = make_pipeline(features, lr_model)\n",
    "lr_classifier.fit(X_train_c, Y_train_c)\n",
    "\n",
    "#TODO FOR STUDENT: Try playing with the min_samples_split to see how it affect the ensemble score\n",
    "rf_model = DecisionTreeClassifier(min_samples_split=0.1)\n",
    "rf_classifier = make_pipeline(features, rf_model)\n",
    "rf_classifier.fit(X_train_c, Y_train_c)\n",
    "\n",
    "#Compare accuracy of the two models\n",
    "lr_train_preds = lr_classifier.predict(X_train_c)\n",
    "lr_train_f1 = f1_score(Y_train_c, lr_train_preds, average='micro')\n",
    "lr_test_preds = lr_classifier.predict(X_test_c)\n",
    "lr_test_f1 = f1_score(Y_test_c, lr_test_preds, average='micro')\n",
    "print(\"Train/test F1 for Logistic Regression: \", lr_train_f1, lr_test_f1)\n",
    "\n",
    "rf_train_preds = rf_classifier.predict(X_train_c)\n",
    "rf_train_f1 = f1_score(Y_train_c, rf_train_preds, average='micro')\n",
    "rf_test_preds = rf_classifier.predict(X_test_c)\n",
    "rf_test_f1 = f1_score(Y_test_c, rf_test_preds, average='micro')\n",
    "print(\"Train/test F1 for Random Forest: \", rf_train_f1, rf_test_f1)\n",
    "\n",
    "#Look at classifier agreement\n",
    "print(\"\\n% Cases where the two classifiers agree on test data: \", np.sum(lr_test_preds == rf_test_preds)/len(lr_test_preds))\n",
    "print(\"% Cases where one of the two classifiers has correct answer: \", np.sum(np.logical_or(lr_test_preds == Y_test_c, rf_test_preds == Y_test_c)/len(lr_test_preds)))\n",
    "\n",
    "#Try to build an ensemble combing both models\n",
    "#TODO FOR STUDENT: Modify the weights parameter which give different weight to each of the classifiers\n",
    "ensemble_classifier = make_pipeline(lr_features, VotingClassifier(estimators=[('lr', lr_model), ('rf', rf_model)], voting='soft', weights=[3,1]))\n",
    "ensemble_classifier.fit(X_train_c, Y_train_c)\n",
    "\n",
    "ensemble_train_preds = ensemble_classifier.predict(X_train_c)\n",
    "ensemble_train_f1 = f1_score(Y_train_c, ensemble_train_preds, average='micro')\n",
    "ensemble_test_preds = ensemble_classifier.predict(X_test_c)\n",
    "ensemble_test_f1 = f1_score(Y_test_c, ensemble_test_preds, average='micro')\n",
    "print(\"\\nTrain/test F1 for Ensemble: \", ensemble_train_f1, ensemble_test_f1)\n"
   ]
  },
  {
   "cell_type": "code",
   "execution_count": 151,
   "id": "a64134a9",
   "metadata": {},
   "outputs": [],
   "source": [
    "#Making classification models for each park dataset \n",
    "#### For Paris\n",
    "X_p = paris_df_main_class[\"Review_text\"]\n",
    "Y_p = paris_df_main_class[\"Sentiment\"]"
   ]
  },
  {
   "cell_type": "code",
   "execution_count": 152,
   "id": "1099585e",
   "metadata": {},
   "outputs": [],
   "source": [
    "# Train Test\n",
    "# Splitting the data into train and test data\n",
    "X_train_p , X_test_p , Y_train_p , Y_test_p = train_test_split(X_p,Y_p, test_size = 0.2)\n"
   ]
  },
  {
   "cell_type": "code",
   "execution_count": 153,
   "id": "763ebb85",
   "metadata": {},
   "outputs": [],
   "source": [
    "# Bag of words\n",
    "vectorizer = CountVectorizer()\n",
    "tfidf = TfidfVectorizer()\n",
    "tfidf_bigram = TfidfVectorizer(ngram_range=(2,2))\n",
    "tfidf_trigram = TfidfVectorizer(ngram_range=(3,3))\n",
    "tfidf_combined = TfidfVectorizer(ngram_range=(1,3))\n",
    "tfidf_vectorizers = [tfidf, tfidf_bigram, tfidf_trigram, tfidf_combined]"
   ]
  },
  {
   "cell_type": "code",
   "execution_count": 180,
   "id": "e284319e",
   "metadata": {},
   "outputs": [
    {
     "name": "stdout",
     "output_type": "stream",
     "text": [
      "Train/test F1 for Logistic Regression:  0.8899956691208315 0.8514508445214378\n",
      "Train/test F1 for Decision Tree:  0.7955825032481593 0.772628843655262\n",
      "\n",
      "% Cases where the two classifiers agree on test data:  0.8440883499350368\n",
      "% Cases where one of the two classifiers has correct answer:  0.8765699436985708\n",
      "\n",
      "Train/test F1 for Ensemble:  0.8840407102641836 0.8466868774361196\n"
     ]
    }
   ],
   "source": [
    "# Ensemble modeling\n",
    "from sklearn.ensemble import VotingClassifier\n",
    "\n",
    "features = TfidfVectorizer() # U can use CountVecotrizer as well\n",
    "\n",
    "lr_model = LogisticRegression(C=1, max_iter = 800)\n",
    "lr_classifier = make_pipeline(features, lr_model)\n",
    "lr_classifier.fit(X_train_p, Y_train_p)\n",
    "\n",
    "#TODO FOR STUDENT: Try playing with the min_samples_split to see how it affect the ensemble score\n",
    "rf_model = DecisionTreeClassifier(min_samples_split=0.1)\n",
    "rf_classifier = make_pipeline(features, rf_model)\n",
    "rf_classifier.fit(X_train_p, Y_train_p)\n",
    "\n",
    "#Compare accuracy of the two models\n",
    "lr_train_preds = lr_classifier.predict(X_train_p)\n",
    "lr_train_f1 = f1_score(Y_train_p, lr_train_preds, average='micro')\n",
    "lr_test_preds = lr_classifier.predict(X_test_p)\n",
    "lr_test_f1 = f1_score(Y_test_p, lr_test_preds, average='micro')\n",
    "print(\"Train/test F1 for Logistic Regression: \", lr_train_f1, lr_test_f1)\n",
    "\n",
    "rf_train_preds = rf_classifier.predict(X_train_p)\n",
    "rf_train_f1 = f1_score(Y_train_p, rf_train_preds, average='micro')\n",
    "rf_test_preds = rf_classifier.predict(X_test_p)\n",
    "rf_test_f1 = f1_score(Y_test_p, rf_test_preds, average='micro')\n",
    "print(\"Train/test F1 for Random Forest: \", rf_train_f1, rf_test_f1)\n",
    "\n",
    "#Look at classifier agreement\n",
    "print(\"\\n% Cases where the two classifiers agree on test data: \", np.sum(lr_test_preds == rf_test_preds)/len(lr_test_preds))\n",
    "print(\"% Cases where one of the two classifiers has correct answer: \", np.sum(np.logical_or(lr_test_preds == Y_test_p, dt_test_preds == Y_test_p)/len(lr_test_preds)))\n",
    "\n",
    "#Try to build an ensemble combing both models\n",
    "#TODO FOR STUDENT: Modify the weights parameter which give different weight to each of the classifiers\n",
    "ensemble_classifier = make_pipeline(lr_features, VotingClassifier(estimators=[('lr', lr_model), ('rf', rf_model)], voting='soft', weights=[3,1]))\n",
    "ensemble_classifier.fit(X_train_p, Y_train_p)\n",
    "\n",
    "ensemble_train_preds = ensemble_classifier.predict(X_train_p)\n",
    "ensemble_train_f1 = f1_score(Y_train_p, ensemble_train_preds, average='micro')\n",
    "ensemble_test_preds = ensemble_classifier.predict(X_test_p)\n",
    "ensemble_test_f1 = f1_score(Y_test_p, ensemble_test_preds, average='micro')\n",
    "print(\"\\nTrain/test F1 for Ensemble: \", ensemble_train_f1, ensemble_test_f1)\n"
   ]
  },
  {
   "cell_type": "code",
   "execution_count": null,
   "id": "935da6c1",
   "metadata": {},
   "outputs": [],
   "source": []
  }
 ],
 "metadata": {
  "kernelspec": {
   "display_name": "Python 3",
   "language": "python",
   "name": "python3"
  },
  "language_info": {
   "codemirror_mode": {
    "name": "ipython",
    "version": 3
   },
   "file_extension": ".py",
   "mimetype": "text/x-python",
   "name": "python",
   "nbconvert_exporter": "python",
   "pygments_lexer": "ipython3",
   "version": "3.8.8"
  }
 },
 "nbformat": 4,
 "nbformat_minor": 5
}
